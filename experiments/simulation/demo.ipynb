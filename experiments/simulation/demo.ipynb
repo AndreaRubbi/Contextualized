{
 "cells": [
  {
   "cell_type": "code",
   "execution_count": 1,
   "id": "60b573e6",
   "metadata": {},
   "outputs": [],
   "source": [
    "import torch\n",
    "import numpy as np\n",
    "import sys\n",
    "sys.path.append('../../')"
   ]
  },
  {
   "cell_type": "code",
   "execution_count": 2,
   "id": "3c031ce6",
   "metadata": {},
   "outputs": [],
   "source": [
    "from model.correlator import ContextualRegressor\n",
    "from model.dataset import GaussianSimulator, Dataset\n",
    "from model.trainer import Trainer, MSE"
   ]
  },
  {
   "cell_type": "markdown",
   "id": "90345cd7",
   "metadata": {},
   "source": [
    "## Few distributions, many samples"
   ]
  },
  {
   "cell_type": "code",
   "execution_count": 11,
   "id": "649001d5",
   "metadata": {},
   "outputs": [
    {
     "data": {
      "text/plain": [
       "(400, 4)"
      ]
     },
     "execution_count": 11,
     "metadata": {},
     "output_type": "execute_result"
    }
   ],
   "source": [
    "p, k, c = 4, 4, 10\n",
    "n = 100\n",
    "simulator = GaussianSimulator(p, k, c)\n",
    "C, X = simulator.gen_samples(n)\n",
    "db = Dataset(C, X)\n",
    "X.shape"
   ]
  },
  {
   "cell_type": "code",
   "execution_count": 12,
   "id": "b59afadc",
   "metadata": {},
   "outputs": [],
   "source": [
    "model = ContextualRegressor(db.C.shape, db.T.shape, num_archetypes=100, final_dense_size=20)\n",
    "opt = torch.optim.Adam\n",
    "trainer = Trainer(model, opt, db)"
   ]
  },
  {
   "cell_type": "code",
   "execution_count": 13,
   "id": "efc43150",
   "metadata": {},
   "outputs": [
    {
     "name": "stdout",
     "output_type": "stream",
     "text": [
      "1.486844539642334\n",
      "0.759985089302063\n"
     ]
    }
   ],
   "source": [
    "print(trainer.test())\n",
    "trainer.train(100)\n",
    "print(trainer.test())"
   ]
  },
  {
   "cell_type": "code",
   "execution_count": 14,
   "id": "f4893ef0",
   "metadata": {},
   "outputs": [
    {
     "data": {
      "text/plain": [
       "(0.36571705, 0.6281906)"
      ]
     },
     "execution_count": 14,
     "metadata": {},
     "output_type": "execute_result"
    }
   ],
   "source": [
    "C, T, X = trainer.db.get_test()\n",
    "beta, mu = trainer.model(C, T)\n",
    "x = X[:,0]\n",
    "y = X[:,1]\n",
    "fx = beta.squeeze() * x + mu.squeeze()\n",
    "x = x.detach().numpy()\n",
    "y = y.detach().numpy()\n",
    "fx = fx.detach().numpy()\n",
    "np.var(fx)/np.var(y), np.var(y - fx)/np.var(y)"
   ]
  },
  {
   "cell_type": "code",
   "execution_count": 25,
   "id": "c7d209dd",
   "metadata": {},
   "outputs": [
    {
     "data": {
      "text/plain": [
       "(0.109446846, 0.9067758)"
      ]
     },
     "execution_count": 25,
     "metadata": {},
     "output_type": "execute_result"
    }
   ],
   "source": [
    "from sklearn.linear_model import LinearRegression\n",
    "X_train = trainer.db.X[trainer.db.train_idx].detach().numpy()\n",
    "xtrain = X_train[:,0]\n",
    "ytrain = X_train[:,1]\n",
    "reg = LinearRegression().fit(xtrain.reshape(-1, 1), ytrain)\n",
    "fx_global = reg.predict(x.reshape(-1, 1))\n",
    "np.var(fx_global)/np.var(y), np.var(y - fx_global)/np.var(y)"
   ]
  },
  {
   "cell_type": "markdown",
   "id": "8ac3e1e9",
   "metadata": {},
   "source": [
    "## Many distributions, single-samples"
   ]
  },
  {
   "cell_type": "code",
   "execution_count": 29,
   "id": "f131ef68",
   "metadata": {},
   "outputs": [
    {
     "data": {
      "text/plain": [
       "(400, 4)"
      ]
     },
     "execution_count": 29,
     "metadata": {},
     "output_type": "execute_result"
    }
   ],
   "source": [
    "p, k, c = 4, 400, 10\n",
    "n = 1\n",
    "simulator = GaussianSimulator(p, k, c)\n",
    "C, X = simulator.gen_samples(n)\n",
    "db = Dataset(C, X)\n",
    "X.shape"
   ]
  },
  {
   "cell_type": "code",
   "execution_count": 30,
   "id": "93842c06",
   "metadata": {},
   "outputs": [],
   "source": [
    "model = ContextualRegressor(db.C.shape, db.T.shape, num_archetypes=100, final_dense_size=20)\n",
    "opt = torch.optim.Adam\n",
    "trainer = Trainer(model, opt, db)"
   ]
  },
  {
   "cell_type": "code",
   "execution_count": 31,
   "id": "b6505f73",
   "metadata": {},
   "outputs": [
    {
     "name": "stdout",
     "output_type": "stream",
     "text": [
      "3.104039192199707\n",
      "0.9570620656013489\n"
     ]
    }
   ],
   "source": [
    "print(trainer.test())\n",
    "trainer.train(100)\n",
    "print(trainer.test())"
   ]
  },
  {
   "cell_type": "code",
   "execution_count": 32,
   "id": "c69cf274",
   "metadata": {},
   "outputs": [
    {
     "data": {
      "text/plain": [
       "(0.34410098, 0.7189247)"
      ]
     },
     "execution_count": 32,
     "metadata": {},
     "output_type": "execute_result"
    }
   ],
   "source": [
    "C, T, X = trainer.db.get_test()\n",
    "beta, mu = trainer.model(C, T)\n",
    "x = X[:,0]\n",
    "y = X[:,1]\n",
    "fx = beta.squeeze() * x + mu.squeeze()\n",
    "x = x.detach().numpy()\n",
    "y = y.detach().numpy()\n",
    "fx = fx.detach().numpy()\n",
    "np.var(fx)/np.var(y), np.var(y - fx)/np.var(y)"
   ]
  },
  {
   "cell_type": "code",
   "execution_count": 33,
   "id": "3629c893",
   "metadata": {},
   "outputs": [
    {
     "data": {
      "text/plain": [
       "(0.051768966, 0.95044315)"
      ]
     },
     "execution_count": 33,
     "metadata": {},
     "output_type": "execute_result"
    }
   ],
   "source": [
    "from sklearn.linear_model import LinearRegression\n",
    "X_train = trainer.db.X[trainer.db.train_idx].detach().numpy()\n",
    "xtrain = X_train[:,0]\n",
    "ytrain = X_train[:,1]\n",
    "reg = LinearRegression().fit(xtrain.reshape(-1, 1), ytrain)\n",
    "fx_global = reg.predict(x.reshape(-1, 1))\n",
    "np.var(fx_global)/np.var(y), np.var(y - fx_global)/np.var(y)"
   ]
  },
  {
   "cell_type": "code",
   "execution_count": null,
   "id": "cc55bef2",
   "metadata": {},
   "outputs": [],
   "source": []
  }
 ],
 "metadata": {
  "kernelspec": {
   "display_name": "Python [conda env:torch]",
   "language": "python",
   "name": "conda-env-torch-py"
  },
  "language_info": {
   "codemirror_mode": {
    "name": "ipython",
    "version": 3
   },
   "file_extension": ".py",
   "mimetype": "text/x-python",
   "name": "python",
   "nbconvert_exporter": "python",
   "pygments_lexer": "ipython3",
   "version": "3.9.6"
  }
 },
 "nbformat": 4,
 "nbformat_minor": 5
}
