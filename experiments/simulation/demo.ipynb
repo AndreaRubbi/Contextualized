{
 "cells": [
  {
   "cell_type": "code",
   "execution_count": 1,
   "id": "458de5f6",
   "metadata": {},
   "outputs": [],
   "source": [
    "import torch\n",
    "import numpy as np\n",
    "import sys\n",
    "sys.path.append('../../')"
   ]
  },
  {
   "cell_type": "code",
   "execution_count": 2,
   "id": "aa8344b5",
   "metadata": {},
   "outputs": [],
   "source": [
    "from model.correlator import ContextualRegressor\n",
    "from model.dataset import GaussianSimulator, Dataset\n",
    "from model.trainer import Trainer, MSE"
   ]
  },
  {
   "cell_type": "markdown",
   "id": "3fe926f8",
   "metadata": {},
   "source": [
    "## Few distributions, many samples"
   ]
  },
  {
   "cell_type": "code",
   "execution_count": 3,
   "id": "f0aa4240",
   "metadata": {},
   "outputs": [
    {
     "data": {
      "text/plain": [
       "(400, 4)"
      ]
     },
     "execution_count": 3,
     "metadata": {},
     "output_type": "execute_result"
    }
   ],
   "source": [
    "p, k, c = 4, 4, 10\n",
    "n = 100\n",
    "simulator = GaussianSimulator(p, k, c)\n",
    "C, X = simulator.gen_samples(n)\n",
    "db = Dataset(C, X)\n",
    "X.shape"
   ]
  },
  {
   "cell_type": "code",
   "execution_count": 4,
   "id": "df125070",
   "metadata": {},
   "outputs": [],
   "source": [
    "model = ContextualRegressor(db.C.shape, db.T.shape, num_archetypes=100, final_dense_size=20)\n",
    "opt = torch.optim.Adam\n",
    "trainer = Trainer(model, opt, db)"
   ]
  },
  {
   "cell_type": "code",
   "execution_count": 5,
   "id": "04dae62d",
   "metadata": {},
   "outputs": [
    {
     "name": "stdout",
     "output_type": "stream",
     "text": [
      "3.2163875102996826\n",
      "0.9547805786132812\n"
     ]
    }
   ],
   "source": [
    "print(trainer.test())\n",
    "trainer.train(100)\n",
    "print(trainer.test())"
   ]
  },
  {
   "cell_type": "markdown",
   "id": "7f9b5835",
   "metadata": {},
   "source": [
    "## Many distributions, single-samples"
   ]
  },
  {
   "cell_type": "code",
   "execution_count": 6,
   "id": "007be63c",
   "metadata": {},
   "outputs": [
    {
     "data": {
      "text/plain": [
       "(400, 4)"
      ]
     },
     "execution_count": 6,
     "metadata": {},
     "output_type": "execute_result"
    }
   ],
   "source": [
    "p, k, c = 4, 400, 10\n",
    "n = 1\n",
    "simulator = GaussianSimulator(p, k, c)\n",
    "C, X = simulator.gen_samples(n)\n",
    "db = Dataset(C, X)\n",
    "X.shape"
   ]
  },
  {
   "cell_type": "code",
   "execution_count": 7,
   "id": "8f06d7c9",
   "metadata": {},
   "outputs": [],
   "source": [
    "model = ContextualRegressor(db.C.shape, db.T.shape, num_archetypes=100, final_dense_size=20)\n",
    "opt = torch.optim.Adam\n",
    "trainer = Trainer(model, opt, db)"
   ]
  },
  {
   "cell_type": "code",
   "execution_count": 8,
   "id": "215fb50e",
   "metadata": {},
   "outputs": [
    {
     "name": "stdout",
     "output_type": "stream",
     "text": [
      "2.16692852973938\n",
      "0.9462199211120605\n"
     ]
    }
   ],
   "source": [
    "print(trainer.test())\n",
    "trainer.train(100)\n",
    "print(trainer.test())"
   ]
  },
  {
   "cell_type": "code",
   "execution_count": null,
   "id": "0e3083c1",
   "metadata": {},
   "outputs": [],
   "source": []
  }
 ],
 "metadata": {
  "kernelspec": {
   "display_name": "Python [conda env:torch]",
   "language": "python",
   "name": "conda-env-torch-py"
  },
  "language_info": {
   "codemirror_mode": {
    "name": "ipython",
    "version": 3
   },
   "file_extension": ".py",
   "mimetype": "text/x-python",
   "name": "python",
   "nbconvert_exporter": "python",
   "pygments_lexer": "ipython3",
   "version": "3.9.6"
  }
 },
 "nbformat": 4,
 "nbformat_minor": 5
}
