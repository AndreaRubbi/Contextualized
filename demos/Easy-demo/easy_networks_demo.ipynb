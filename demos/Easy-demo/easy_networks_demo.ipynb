{
 "cells": [
  {
   "cell_type": "code",
   "execution_count": 1,
   "id": "5967fd61",
   "metadata": {},
   "outputs": [],
   "source": [
    "import numpy as np\n",
    "import matplotlib.pyplot as plt\n",
    "%matplotlib inline"
   ]
  },
  {
   "cell_type": "code",
   "execution_count": 2,
   "id": "76d3c5b5",
   "metadata": {},
   "outputs": [],
   "source": [
    "X = np.random.normal(0, 1, size=(1000, 10))\n",
    "C = np.random.uniform(-1, 1, size=(1000, 5))"
   ]
  },
  {
   "cell_type": "code",
   "execution_count": 3,
   "id": "c850dfc0",
   "metadata": {},
   "outputs": [
    {
     "name": "stderr",
     "output_type": "stream",
     "text": [
      "GPU available: True (mps), used: False\n",
      "TPU available: False, using: 0 TPU cores\n",
      "IPU available: False, using: 0 IPUs\n",
      "HPU available: False, using: 0 HPUs\n",
      "/opt/homebrew/lib/python3.10/site-packages/pytorch_lightning/trainer/trainer.py:1789: UserWarning: MPS available but not used. Set `accelerator` and `devices` using `Trainer(accelerator='mps', devices=1)`.\n",
      "  rank_zero_warn(\n",
      "\n",
      "  | Name      | Type             | Params\n",
      "-----------------------------------------------\n",
      "0 | metamodel | SubtypeMetamodel | 8.8 K \n",
      "-----------------------------------------------\n",
      "8.8 K     Trainable params\n",
      "0         Non-trainable params\n",
      "8.8 K     Total params\n",
      "0.035     Total estimated model params size (MB)\n"
     ]
    },
    {
     "data": {
      "application/vnd.jupyter.widget-view+json": {
       "model_id": "b222f606369349a6abbafe0543bc6532",
       "version_major": 2,
       "version_minor": 0
      },
      "text/plain": [
       "Sanity Checking: 0it [00:00, ?it/s]"
      ]
     },
     "metadata": {},
     "output_type": "display_data"
    },
    {
     "name": "stderr",
     "output_type": "stream",
     "text": [
      "/opt/homebrew/lib/python3.10/site-packages/pytorch_lightning/trainer/connectors/data_connector.py:236: PossibleUserWarning: The dataloader, val_dataloader 0, does not have many workers which may be a bottleneck. Consider increasing the value of the `num_workers` argument` (try 10 which is the number of cpus on this machine) in the `DataLoader` init to improve performance.\n",
      "  rank_zero_warn(\n",
      "/opt/homebrew/lib/python3.10/site-packages/pytorch_lightning/trainer/connectors/data_connector.py:236: PossibleUserWarning: The dataloader, train_dataloader, does not have many workers which may be a bottleneck. Consider increasing the value of the `num_workers` argument` (try 10 which is the number of cpus on this machine) in the `DataLoader` init to improve performance.\n",
      "  rank_zero_warn(\n"
     ]
    },
    {
     "data": {
      "application/vnd.jupyter.widget-view+json": {
       "model_id": "19869a5271984a00a05be23ee93e273b",
       "version_major": 2,
       "version_minor": 0
      },
      "text/plain": [
       "Training: 0it [00:00, ?it/s]"
      ]
     },
     "metadata": {},
     "output_type": "display_data"
    },
    {
     "data": {
      "application/vnd.jupyter.widget-view+json": {
       "model_id": "3fdf44e70b274955828b31a92db83bc8",
       "version_major": 2,
       "version_minor": 0
      },
      "text/plain": [
       "Validation: 0it [00:00, ?it/s]"
      ]
     },
     "metadata": {},
     "output_type": "display_data"
    },
    {
     "data": {
      "application/vnd.jupyter.widget-view+json": {
       "model_id": "b94248fb3be349b491dd9cfb02f11bfa",
       "version_major": 2,
       "version_minor": 0
      },
      "text/plain": [
       "Validation: 0it [00:00, ?it/s]"
      ]
     },
     "metadata": {},
     "output_type": "display_data"
    },
    {
     "data": {
      "application/vnd.jupyter.widget-view+json": {
       "model_id": "41f7b834ffcd4fac8d249ee0543d2259",
       "version_major": 2,
       "version_minor": 0
      },
      "text/plain": [
       "Validation: 0it [00:00, ?it/s]"
      ]
     },
     "metadata": {},
     "output_type": "display_data"
    },
    {
     "name": "stderr",
     "output_type": "stream",
     "text": [
      "GPU available: True (mps), used: False\n",
      "TPU available: False, using: 0 TPU cores\n",
      "IPU available: False, using: 0 IPUs\n",
      "HPU available: False, using: 0 HPUs\n",
      "\n",
      "  | Name      | Type             | Params\n",
      "-----------------------------------------------\n",
      "0 | metamodel | SubtypeMetamodel | 8.8 K \n",
      "-----------------------------------------------\n",
      "8.8 K     Trainable params\n",
      "0         Non-trainable params\n",
      "8.8 K     Total params\n",
      "0.035     Total estimated model params size (MB)\n"
     ]
    },
    {
     "data": {
      "application/vnd.jupyter.widget-view+json": {
       "model_id": "c6b3dd0dbb7c4bc2ae962a2da2f798f7",
       "version_major": 2,
       "version_minor": 0
      },
      "text/plain": [
       "Sanity Checking: 0it [00:00, ?it/s]"
      ]
     },
     "metadata": {},
     "output_type": "display_data"
    },
    {
     "data": {
      "application/vnd.jupyter.widget-view+json": {
       "model_id": "8e4d55460a1242e4af6e7c371e898d28",
       "version_major": 2,
       "version_minor": 0
      },
      "text/plain": [
       "Training: 0it [00:00, ?it/s]"
      ]
     },
     "metadata": {},
     "output_type": "display_data"
    },
    {
     "data": {
      "application/vnd.jupyter.widget-view+json": {
       "model_id": "afde8e9891b94445a2c2dfcbcc768f18",
       "version_major": 2,
       "version_minor": 0
      },
      "text/plain": [
       "Validation: 0it [00:00, ?it/s]"
      ]
     },
     "metadata": {},
     "output_type": "display_data"
    },
    {
     "data": {
      "application/vnd.jupyter.widget-view+json": {
       "model_id": "ff7f4dfee20c4ddf8b2f07c776f09581",
       "version_major": 2,
       "version_minor": 0
      },
      "text/plain": [
       "Validation: 0it [00:00, ?it/s]"
      ]
     },
     "metadata": {},
     "output_type": "display_data"
    },
    {
     "data": {
      "application/vnd.jupyter.widget-view+json": {
       "model_id": "d7ed0566a2914245bb88fe6091fc5797",
       "version_major": 2,
       "version_minor": 0
      },
      "text/plain": [
       "Validation: 0it [00:00, ?it/s]"
      ]
     },
     "metadata": {},
     "output_type": "display_data"
    },
    {
     "data": {
      "application/vnd.jupyter.widget-view+json": {
       "model_id": "cf99da5d622143398b23703cd5229737",
       "version_major": 2,
       "version_minor": 0
      },
      "text/plain": [
       "Validation: 0it [00:00, ?it/s]"
      ]
     },
     "metadata": {},
     "output_type": "display_data"
    },
    {
     "data": {
      "application/vnd.jupyter.widget-view+json": {
       "model_id": "1d514676a1404a08a57b35419744051b",
       "version_major": 2,
       "version_minor": 0
      },
      "text/plain": [
       "Validation: 0it [00:00, ?it/s]"
      ]
     },
     "metadata": {},
     "output_type": "display_data"
    },
    {
     "name": "stderr",
     "output_type": "stream",
     "text": [
      "`Trainer.fit` stopped: `max_epochs=5` reached.\n",
      "GPU available: True (mps), used: False\n",
      "TPU available: False, using: 0 TPU cores\n",
      "IPU available: False, using: 0 IPUs\n",
      "HPU available: False, using: 0 HPUs\n",
      "\n",
      "  | Name      | Type             | Params\n",
      "-----------------------------------------------\n",
      "0 | metamodel | SubtypeMetamodel | 8.8 K \n",
      "-----------------------------------------------\n",
      "8.8 K     Trainable params\n",
      "0         Non-trainable params\n",
      "8.8 K     Total params\n",
      "0.035     Total estimated model params size (MB)\n"
     ]
    },
    {
     "data": {
      "application/vnd.jupyter.widget-view+json": {
       "model_id": "0615609908fe4f85898319b8fb843d1a",
       "version_major": 2,
       "version_minor": 0
      },
      "text/plain": [
       "Sanity Checking: 0it [00:00, ?it/s]"
      ]
     },
     "metadata": {},
     "output_type": "display_data"
    },
    {
     "data": {
      "application/vnd.jupyter.widget-view+json": {
       "model_id": "f7d76ef30b8340f5a9b4da3ba651023a",
       "version_major": 2,
       "version_minor": 0
      },
      "text/plain": [
       "Training: 0it [00:00, ?it/s]"
      ]
     },
     "metadata": {},
     "output_type": "display_data"
    },
    {
     "data": {
      "application/vnd.jupyter.widget-view+json": {
       "model_id": "3108b9d95a2e4f108c15bb5e0467b252",
       "version_major": 2,
       "version_minor": 0
      },
      "text/plain": [
       "Validation: 0it [00:00, ?it/s]"
      ]
     },
     "metadata": {},
     "output_type": "display_data"
    },
    {
     "data": {
      "application/vnd.jupyter.widget-view+json": {
       "model_id": "a33917432bc541288361ddf73395bf21",
       "version_major": 2,
       "version_minor": 0
      },
      "text/plain": [
       "Validation: 0it [00:00, ?it/s]"
      ]
     },
     "metadata": {},
     "output_type": "display_data"
    },
    {
     "data": {
      "application/vnd.jupyter.widget-view+json": {
       "model_id": "e7388ccbfaea4305944defe7a7146211",
       "version_major": 2,
       "version_minor": 0
      },
      "text/plain": [
       "Validation: 0it [00:00, ?it/s]"
      ]
     },
     "metadata": {},
     "output_type": "display_data"
    },
    {
     "data": {
      "application/vnd.jupyter.widget-view+json": {
       "model_id": "9442acadc1af4f93b905b7836869605f",
       "version_major": 2,
       "version_minor": 0
      },
      "text/plain": [
       "Validation: 0it [00:00, ?it/s]"
      ]
     },
     "metadata": {},
     "output_type": "display_data"
    },
    {
     "data": {
      "application/vnd.jupyter.widget-view+json": {
       "model_id": "c8b0aee38a7449d3a8309d7ec15e8208",
       "version_major": 2,
       "version_minor": 0
      },
      "text/plain": [
       "Validation: 0it [00:00, ?it/s]"
      ]
     },
     "metadata": {},
     "output_type": "display_data"
    },
    {
     "name": "stderr",
     "output_type": "stream",
     "text": [
      "`Trainer.fit` stopped: `max_epochs=5` reached.\n",
      "/opt/homebrew/lib/python3.10/site-packages/pytorch_lightning/trainer/connectors/data_connector.py:236: PossibleUserWarning: The dataloader, predict_dataloader 0, does not have many workers which may be a bottleneck. Consider increasing the value of the `num_workers` argument` (try 10 which is the number of cpus on this machine) in the `DataLoader` init to improve performance.\n",
      "  rank_zero_warn(\n"
     ]
    },
    {
     "data": {
      "application/vnd.jupyter.widget-view+json": {
       "model_id": "6bcb518ebc8e45f78db4412233067547",
       "version_major": 2,
       "version_minor": 0
      },
      "text/plain": [
       "Predicting: 50it [00:00, ?it/s]"
      ]
     },
     "metadata": {},
     "output_type": "display_data"
    },
    {
     "name": "stderr",
     "output_type": "stream",
     "text": [
      "/opt/homebrew/lib/python3.10/site-packages/pytorch_lightning/loops/epoch/prediction_epoch_loop.py:174: UserWarning: Lightning couldn't infer the indices fetched for your dataloader.\n",
      "  warning_cache.warn(\"Lightning couldn't infer the indices fetched for your dataloader.\")\n"
     ]
    },
    {
     "data": {
      "application/vnd.jupyter.widget-view+json": {
       "model_id": "b8ab8cada96948e19f1e586827f7722c",
       "version_major": 2,
       "version_minor": 0
      },
      "text/plain": [
       "Predicting: 50it [00:00, ?it/s]"
      ]
     },
     "metadata": {},
     "output_type": "display_data"
    },
    {
     "data": {
      "application/vnd.jupyter.widget-view+json": {
       "model_id": "10f927d14f1040b9b286d5d9f9732607",
       "version_major": 2,
       "version_minor": 0
      },
      "text/plain": [
       "Predicting: 50it [00:00, ?it/s]"
      ]
     },
     "metadata": {},
     "output_type": "display_data"
    },
    {
     "data": {
      "application/vnd.jupyter.widget-view+json": {
       "model_id": "5c7e8bfe39e24367b6670b175187abe2",
       "version_major": 2,
       "version_minor": 0
      },
      "text/plain": [
       "Predicting: 50it [00:00, ?it/s]"
      ]
     },
     "metadata": {},
     "output_type": "display_data"
    },
    {
     "data": {
      "application/vnd.jupyter.widget-view+json": {
       "model_id": "5707b6fb16e249fb998df643759ea701",
       "version_major": 2,
       "version_minor": 0
      },
      "text/plain": [
       "Predicting: 50it [00:00, ?it/s]"
      ]
     },
     "metadata": {},
     "output_type": "display_data"
    },
    {
     "data": {
      "application/vnd.jupyter.widget-view+json": {
       "model_id": "257dd1a326724a2782244bf526f0a9f8",
       "version_major": 2,
       "version_minor": 0
      },
      "text/plain": [
       "Predicting: 50it [00:00, ?it/s]"
      ]
     },
     "metadata": {},
     "output_type": "display_data"
    },
    {
     "data": {
      "text/plain": [
       "array([[[[1.03787648e+00, 3.18744015e-03, 6.40990179e-05, ...,\n",
       "          8.01122290e-06, 5.76328087e-05, 1.36203571e-04],\n",
       "         [1.98963045e-03, 1.05650142e+00, 7.11239211e-03, ...,\n",
       "          3.16746892e-04, 7.99159818e-03, 2.71127862e-03],\n",
       "         [1.54942798e-04, 8.19831448e-03, 1.04647144e+00, ...,\n",
       "          3.02604460e-04, 1.66431685e-04, 2.42146793e-04],\n",
       "         ...,\n",
       "         [4.58683898e-05, 2.50173470e-04, 2.27728025e-04, ...,\n",
       "          1.04897824e+00, 1.13353389e-04, 3.77435844e-03],\n",
       "         [8.83444508e-06, 7.71849122e-03, 5.20244969e-05, ...,\n",
       "          3.13576822e-05, 1.04236925e+00, 2.75813531e-04],\n",
       "         [1.49550998e-05, 3.24553084e-03, 3.84733981e-04, ...,\n",
       "          2.97454302e-03, 2.25675379e-04, 1.03586728e+00]],\n",
       "\n",
       "        [[1.02043713e+00, 3.02158663e-03, 5.11068121e-05, ...,\n",
       "          1.96652062e-06, 2.86114322e-05, 1.53866203e-04],\n",
       "         [2.07835216e-03, 1.04292456e+00, 7.05790753e-03, ...,\n",
       "          2.71669195e-04, 7.83002815e-03, 2.65852806e-03],\n",
       "         [9.92979346e-05, 8.32950565e-03, 1.03864951e+00, ...,\n",
       "          3.45343177e-04, 1.37168321e-04, 2.94875454e-04],\n",
       "         ...,\n",
       "         [6.82696785e-05, 3.26313469e-04, 1.79383345e-04, ...,\n",
       "          1.03074048e+00, 1.18291669e-04, 3.31761741e-03],\n",
       "         [2.96280511e-05, 7.80893478e-03, 9.69628235e-06, ...,\n",
       "          1.79944943e-05, 1.02327551e+00, 1.67877748e-04],\n",
       "         [2.48433173e-05, 3.04022609e-03, 4.76510272e-04, ...,\n",
       "          3.40269349e-03, 2.53411534e-04, 1.02988524e+00]],\n",
       "\n",
       "        [[9.86357096e-01, 3.02267695e-03, 1.07670515e-04, ...,\n",
       "          2.27570560e-06, 4.67835096e-05, 1.21309048e-04],\n",
       "         [1.73084424e-03, 1.00322769e+00, 6.50210476e-03, ...,\n",
       "          2.37629828e-04, 7.37063322e-03, 2.76199185e-03],\n",
       "         [1.59546655e-04, 8.12956003e-03, 9.94163590e-01, ...,\n",
       "          2.84050074e-04, 2.02052271e-04, 2.56206000e-04],\n",
       "         ...,\n",
       "         [1.56610635e-05, 1.48372651e-04, 2.10416446e-04, ...,\n",
       "          9.97154475e-01, 2.16399492e-04, 3.71323607e-03],\n",
       "         [2.24618594e-05, 7.32241618e-03, 9.78456183e-05, ...,\n",
       "          4.32233997e-05, 9.88748431e-01, 2.34624083e-04],\n",
       "         [1.04041596e-05, 3.43269845e-03, 3.45445505e-04, ...,\n",
       "          2.69482968e-03, 2.24811129e-04, 9.86903083e-01]],\n",
       "\n",
       "        ...,\n",
       "\n",
       "        [[9.68167727e-01, 1.28838826e-03, 6.33275489e-05, ...,\n",
       "          9.53991575e-05, 2.83071170e-05, 1.23527607e-04],\n",
       "         [2.05839578e-03, 9.65977866e-01, 9.02785245e-03, ...,\n",
       "          4.79690774e-04, 7.15815621e-03, 2.12674267e-03],\n",
       "         [2.66326089e-06, 8.74623578e-03, 9.90054307e-01, ...,\n",
       "          4.39833474e-04, 1.51694478e-05, 7.14950880e-04],\n",
       "         ...,\n",
       "         [1.70110151e-05, 7.04215988e-04, 3.73077524e-04, ...,\n",
       "          9.77574899e-01, 7.71214516e-06, 1.72644671e-03],\n",
       "         [1.50801543e-04, 5.87317836e-03, 5.31571513e-05, ...,\n",
       "          2.60358136e-07, 9.84647528e-01, 6.84891341e-05],\n",
       "         [3.09059778e-05, 1.97040698e-03, 6.64361979e-04, ...,\n",
       "          3.80466186e-03, 4.27412333e-04, 9.83544067e-01]],\n",
       "\n",
       "        [[9.47154250e-01, 1.52041403e-03, 3.26432478e-05, ...,\n",
       "          6.51518916e-05, 4.60797446e-05, 5.46236621e-05],\n",
       "         [1.78001248e-03, 9.51708843e-01, 7.72802077e-03, ...,\n",
       "          4.39538202e-04, 6.51391910e-03, 2.14822429e-03],\n",
       "         [3.40556862e-05, 8.01925248e-03, 9.60410318e-01, ...,\n",
       "          3.16788729e-04, 5.75538257e-05, 3.98907059e-04],\n",
       "         ...,\n",
       "         [3.71193953e-05, 5.93729946e-04, 1.77050858e-04, ...,\n",
       "          9.56945827e-01, 1.40277796e-05, 2.28310174e-03],\n",
       "         [6.50004004e-05, 6.10932613e-03, 1.14079906e-07, ...,\n",
       "          3.52268039e-05, 9.53214415e-01, 1.03400386e-04],\n",
       "         [2.33271996e-05, 2.05495912e-03, 4.90716762e-04, ...,\n",
       "          3.26652859e-03, 2.98484641e-04, 9.55667456e-01]],\n",
       "\n",
       "        [[9.90346240e-01, 1.27135841e-03, 1.21832890e-05, ...,\n",
       "          2.01417544e-04, 1.47220035e-05, 9.04829424e-06],\n",
       "         [1.62001719e-03, 9.83859751e-01, 8.72847253e-03, ...,\n",
       "          5.03919960e-04, 6.22772421e-03, 2.10565753e-03],\n",
       "         [9.63188856e-06, 8.79638841e-03, 1.00985200e+00, ...,\n",
       "          2.67629420e-04, 4.04282615e-05, 3.02122386e-04],\n",
       "         ...,\n",
       "         [1.31569829e-05, 6.19951311e-04, 1.09106676e-04, ...,\n",
       "          9.96880941e-01, 3.42858686e-06, 2.16783401e-03],\n",
       "         [6.08970422e-05, 5.55238640e-03, 5.42137516e-06, ...,\n",
       "          5.43506171e-05, 1.00058278e+00, 5.34933944e-05],\n",
       "         [1.63618278e-05, 1.93740103e-03, 4.31149759e-04, ...,\n",
       "          3.20184440e-03, 1.68474528e-04, 9.98329027e-01]]],\n",
       "\n",
       "\n",
       "       [[[9.47637289e-01, 9.81657605e-07, 1.40086209e-03, ...,\n",
       "          3.74836456e-05, 1.43230123e-04, 3.57107467e-03],\n",
       "         [1.45742104e-04, 9.60822991e-01, 2.32170934e-03, ...,\n",
       "          1.62345805e-03, 2.07508690e-03, 1.13313532e-04],\n",
       "         [2.04451105e-03, 3.43649071e-03, 9.46141811e-01, ...,\n",
       "          1.06163575e-03, 5.40600730e-03, 5.18879001e-05],\n",
       "         ...,\n",
       "         [1.03675383e-05, 1.53245413e-03, 5.10114235e-04, ...,\n",
       "          9.44539301e-01, 9.53513689e-04, 2.13968458e-03],\n",
       "         [1.58980994e-04, 1.79453217e-03, 3.31500872e-03, ...,\n",
       "          1.18509997e-03, 9.32877152e-01, 2.43122726e-05],\n",
       "         [5.59612227e-03, 1.44112074e-04, 6.79502418e-06, ...,\n",
       "          3.03675900e-03, 2.70135161e-05, 9.39337231e-01]],\n",
       "\n",
       "        [[9.39724551e-01, 6.09784824e-05, 1.12506425e-03, ...,\n",
       "          1.59877245e-04, 2.86772214e-04, 3.59840365e-03],\n",
       "         [1.83596576e-04, 9.50460357e-01, 2.29877091e-03, ...,\n",
       "          1.32531378e-03, 3.80952747e-03, 3.05395924e-04],\n",
       "         [2.27255172e-03, 3.04571290e-03, 9.36609308e-01, ...,\n",
       "          2.13581741e-03, 4.53838027e-03, 7.12294499e-05],\n",
       "         ...,\n",
       "         [1.05463012e-05, 9.39799737e-04, 1.28424746e-03, ...,\n",
       "          9.32740833e-01, 1.22034682e-03, 1.76850361e-03],\n",
       "         [2.70794006e-04, 3.64836272e-03, 2.55211636e-03, ...,\n",
       "          1.53018931e-03, 9.17873189e-01, 2.68607540e-04],\n",
       "         [4.51421162e-03, 2.37438264e-04, 1.16486869e-04, ...,\n",
       "          3.06123214e-03, 3.10317813e-04, 9.35446057e-01]],\n",
       "\n",
       "        [[9.40654351e-01, 1.21246916e-06, 9.15045136e-04, ...,\n",
       "          2.37450860e-05, 2.26432607e-04, 3.39072570e-03],\n",
       "         [2.94356029e-05, 9.54572789e-01, 3.04267009e-03, ...,\n",
       "          2.12176517e-03, 1.73797094e-03, 6.86842631e-06],\n",
       "         [1.40612439e-03, 4.42869544e-03, 9.50921686e-01, ...,\n",
       "          1.09065458e-03, 6.04685337e-03, 9.27028265e-05],\n",
       "         ...,\n",
       "         [4.63461842e-04, 2.18186163e-03, 4.83903619e-04, ...,\n",
       "          9.41529204e-01, 6.48504477e-04, 2.52062354e-03],\n",
       "         [3.10317944e-04, 1.43441802e-03, 3.76213089e-03, ...,\n",
       "          8.75470406e-04, 9.34728929e-01, 2.14855390e-08],\n",
       "         [5.75558308e-03, 3.16286570e-06, 2.77263036e-05, ...,\n",
       "          3.66132871e-03, 1.52658548e-05, 9.34564931e-01]],\n",
       "\n",
       "        ...,\n",
       "\n",
       "        [[9.27099701e-01, 8.71636957e-06, 2.92246920e-05, ...,\n",
       "          7.43694677e-04, 3.48148108e-04, 4.06131081e-03],\n",
       "         [1.48929450e-04, 9.22365728e-01, 2.34796319e-03, ...,\n",
       "          1.94980547e-05, 8.60483165e-03, 1.40597000e-04],\n",
       "         [1.86307127e-06, 3.61789223e-03, 9.27443849e-01, ...,\n",
       "          6.58810447e-03, 2.67370434e-03, 5.61451060e-04],\n",
       "         ...,\n",
       "         [1.15372846e-03, 4.19928983e-05, 7.08204158e-03, ...,\n",
       "          9.27271193e-01, 2.37171012e-04, 3.18731312e-03],\n",
       "         [2.93115892e-04, 8.41947411e-03, 1.84112858e-03, ...,\n",
       "          2.48651233e-04, 9.24947758e-01, 2.43005035e-03],\n",
       "         [2.65877892e-03, 1.42447033e-04, 5.68150096e-04, ...,\n",
       "          3.33571672e-03, 2.76521966e-03, 9.43125687e-01]],\n",
       "\n",
       "        [[8.85839746e-01, 1.74218805e-06, 1.64076350e-04, ...,\n",
       "          3.12698414e-04, 6.79610239e-05, 4.39982220e-03],\n",
       "         [6.61248571e-05, 8.84572804e-01, 2.15576800e-03, ...,\n",
       "          1.99142929e-04, 4.13070724e-03, 6.11282658e-05],\n",
       "         [2.56352588e-04, 3.05909470e-03, 8.81717326e-01, ...,\n",
       "          2.45472967e-03, 2.89486469e-03, 1.70722371e-05],\n",
       "         ...,\n",
       "         [4.39928326e-04, 1.02915587e-04, 2.71407492e-03, ...,\n",
       "          8.89118752e-01, 4.87962138e-04, 3.35076018e-03],\n",
       "         [4.65553947e-05, 3.99655666e-03, 2.09697741e-03, ...,\n",
       "          3.98754025e-04, 8.85675383e-01, 8.51100759e-04],\n",
       "         [3.83690412e-03, 1.08166490e-04, 3.22763557e-05, ...,\n",
       "          3.29086464e-03, 1.07244168e-03, 8.90460037e-01]],\n",
       "\n",
       "        [[9.33550146e-01, 5.50088965e-05, 4.54429480e-04, ...,\n",
       "          4.94506580e-04, 2.54898386e-09, 4.72229784e-03],\n",
       "         [1.45413918e-04, 9.28475872e-01, 2.19769487e-03, ...,\n",
       "          2.81002597e-04, 1.89382664e-03, 2.49665875e-08],\n",
       "         [1.84307194e-04, 3.82211917e-03, 9.35102387e-01, ...,\n",
       "          9.78065301e-04, 3.47880994e-03, 1.87080788e-04],\n",
       "         ...,\n",
       "         [7.38594616e-04, 2.81765848e-04, 1.12103810e-03, ...,\n",
       "          9.49424199e-01, 4.04811346e-04, 4.29562453e-03],\n",
       "         [5.69626638e-06, 1.70975130e-03, 2.86605281e-03, ...,\n",
       "          2.95716304e-04, 9.42420550e-01, 2.49086532e-04],\n",
       "         [5.38725131e-03, 3.94028987e-05, 1.23790932e-04, ...,\n",
       "          3.41661702e-03, 3.67531651e-04, 9.37332811e-01]]],\n",
       "\n",
       "\n",
       "       [[[1.04148729e+00, 1.18420933e-04, 3.44875048e-05, ...,\n",
       "          1.47615645e-03, 2.55457612e-04, 8.92210524e-05],\n",
       "         [2.98105949e-06, 1.04237850e+00, 3.36746555e-03, ...,\n",
       "          3.30933152e-05, 1.07958960e-03, 2.78787774e-03],\n",
       "         [2.77840384e-05, 2.70781997e-03, 1.03465460e+00, ...,\n",
       "          1.47304876e-03, 2.90476784e-03, 1.81931575e-03],\n",
       "         ...,\n",
       "         [1.13861077e-03, 1.69712320e-04, 1.25556863e-03, ...,\n",
       "          1.03943206e+00, 7.21571904e-04, 2.98380525e-03],\n",
       "         [4.13094990e-05, 1.59415954e-03, 2.49275852e-03, ...,\n",
       "          7.16215277e-04, 1.02873265e+00, 1.83966025e-04],\n",
       "         [2.52436413e-04, 2.33671636e-03, 1.06033932e-03, ...,\n",
       "          2.07349509e-03, 9.63147437e-04, 1.02530650e+00]],\n",
       "\n",
       "        [[1.04928838e+00, 8.15031833e-05, 5.40388558e-05, ...,\n",
       "          1.54034211e-03, 1.77046545e-04, 6.88829947e-05],\n",
       "         [5.27286890e-07, 1.05004023e+00, 3.10863297e-03, ...,\n",
       "          3.41534983e-05, 1.37467757e-03, 2.62905189e-03],\n",
       "         [4.40255299e-05, 2.69060662e-03, 1.03876566e+00, ...,\n",
       "          1.85254934e-03, 2.85351290e-03, 1.91591109e-03],\n",
       "         ...,\n",
       "         [1.29362133e-03, 1.00432689e-04, 1.33575847e-03, ...,\n",
       "          1.05114677e+00, 6.99970708e-04, 3.22060135e-03],\n",
       "         [1.55619081e-05, 1.99079246e-03, 2.24021208e-03, ...,\n",
       "          6.14411132e-04, 1.03816919e+00, 2.77661838e-04],\n",
       "         [2.70641936e-04, 2.24140311e-03, 1.09602519e-03, ...,\n",
       "          2.20022264e-03, 8.86125362e-04, 1.03828774e+00]],\n",
       "\n",
       "        [[1.04162647e+00, 8.46474068e-05, 3.14860867e-05, ...,\n",
       "          1.40252822e-03, 2.36525772e-04, 1.20044029e-04],\n",
       "         [1.85843115e-07, 1.04372698e+00, 3.26312882e-03, ...,\n",
       "          2.41016724e-05, 1.14074772e-03, 2.59244601e-03],\n",
       "         [2.18613810e-05, 2.75286229e-03, 1.03837812e+00, ...,\n",
       "          1.48598221e-03, 3.03133031e-03, 1.79706308e-03],\n",
       "         ...,\n",
       "         [1.19910355e-03, 1.18120365e-04, 1.25113755e-03, ...,\n",
       "          1.04139143e+00, 6.73627650e-04, 3.20352086e-03],\n",
       "         [4.70633387e-05, 1.62717335e-03, 2.38246316e-03, ...,\n",
       "          7.15274646e-04, 1.03041954e+00, 2.19665642e-04],\n",
       "         [2.27295949e-04, 2.45921530e-03, 1.03112974e-03, ...,\n",
       "          2.10529617e-03, 9.38569830e-04, 1.02947154e+00]],\n",
       "\n",
       "        ...,\n",
       "\n",
       "        [[9.55722345e-01, 3.20269160e-04, 3.62148028e-04, ...,\n",
       "          7.74378018e-04, 7.03151410e-05, 6.43033493e-04],\n",
       "         [1.24766067e-04, 9.57235636e-01, 4.23517876e-03, ...,\n",
       "          9.41003823e-04, 1.59307928e-03, 3.96227948e-03],\n",
       "         [7.19134581e-04, 5.36143894e-03, 9.56948975e-01, ...,\n",
       "          2.20081260e-03, 3.12922966e-03, 6.02563048e-04],\n",
       "         ...,\n",
       "         [1.16704987e-03, 4.50426057e-04, 1.50616288e-03, ...,\n",
       "          9.53670475e-01, 7.70196735e-06, 2.89603856e-03],\n",
       "         [8.58148930e-05, 7.58669843e-04, 1.47977180e-03, ...,\n",
       "          2.21849335e-05, 9.58951719e-01, 2.32574919e-04],\n",
       "         [3.20287494e-04, 4.95057537e-03, 5.53401682e-04, ...,\n",
       "          3.25983164e-03, 1.06119398e-03, 9.79417172e-01]],\n",
       "\n",
       "        [[9.84031566e-01, 1.24373859e-04, 2.25114250e-04, ...,\n",
       "          8.40569062e-04, 1.41352760e-04, 5.82141925e-04],\n",
       "         [5.44094882e-05, 9.87994089e-01, 4.20109139e-03, ...,\n",
       "          6.97279757e-04, 1.32565827e-03, 4.02330584e-03],\n",
       "         [4.89749408e-04, 4.75410625e-03, 9.87600025e-01, ...,\n",
       "          1.73225055e-03, 3.20399824e-03, 6.95983644e-04],\n",
       "         ...,\n",
       "         [1.12636039e-03, 4.67856833e-04, 1.38269086e-03, ...,\n",
       "          9.84170283e-01, 6.67499546e-05, 2.71890605e-03],\n",
       "         [1.36182573e-04, 7.12119218e-04, 1.81280270e-03, ...,\n",
       "          1.01419865e-04, 9.83818484e-01, 1.42165974e-04],\n",
       "         [2.92842152e-04, 4.50636780e-03, 5.50866142e-04, ...,\n",
       "          3.06926804e-03, 3.93525466e-04, 9.98689723e-01]],\n",
       "\n",
       "        [[9.87528827e-01, 3.28320500e-04, 2.88357906e-04, ...,\n",
       "          7.76784211e-04, 1.53645701e-04, 8.51671752e-04],\n",
       "         [8.76666288e-05, 9.90907807e-01, 4.87621439e-03, ...,\n",
       "          9.92500700e-04, 1.24238002e-03, 4.75235361e-03],\n",
       "         [6.35745122e-04, 5.57305589e-03, 9.98912392e-01, ...,\n",
       "          1.61770053e-03, 3.26687650e-03, 5.81724856e-04],\n",
       "         ...,\n",
       "         [1.00134001e-03, 7.03086886e-04, 1.45450806e-03, ...,\n",
       "          9.86705203e-01, 6.96760902e-06, 2.85454261e-03],\n",
       "         [1.75599000e-04, 3.57281029e-04, 1.88617789e-03, ...,\n",
       "          7.41728709e-05, 9.94744548e-01, 4.43030775e-04],\n",
       "         [2.53845814e-04, 5.72203410e-03, 5.43559407e-04, ...,\n",
       "          3.36538451e-03, 1.09198885e-03, 1.00979641e+00]]]])"
      ]
     },
     "execution_count": 3,
     "metadata": {},
     "output_type": "execute_result"
    }
   ],
   "source": [
    "# Correlation Networks\n",
    "from contextualized.easy import ContextualizedCorrelationNetworks\n",
    "\n",
    "ccn = ContextualizedCorrelationNetworks(encoder_type='ngam', num_archetypes=16, n_bootstraps=3)\n",
    "ccn.fit(C, X, max_epochs=5)\n",
    "\n",
    "# Get rho\n",
    "ccn.predict_correlation(C, squared=False)\n",
    "\n",
    "# Get rho^2\n",
    "ccn.predict_correlation(C, squared=True)"
   ]
  },
  {
   "cell_type": "code",
   "execution_count": 4,
   "id": "515bf779",
   "metadata": {},
   "outputs": [
    {
     "name": "stderr",
     "output_type": "stream",
     "text": [
      "GPU available: True (mps), used: False\n",
      "TPU available: False, using: 0 TPU cores\n",
      "IPU available: False, using: 0 IPUs\n",
      "HPU available: False, using: 0 HPUs\n",
      "\n",
      "  | Name      | Type             | Params\n",
      "-----------------------------------------------\n",
      "0 | metamodel | SubtypeMetamodel | 7.3 K \n",
      "-----------------------------------------------\n",
      "7.3 K     Trainable params\n",
      "0         Non-trainable params\n",
      "7.3 K     Total params\n",
      "0.029     Total estimated model params size (MB)\n"
     ]
    },
    {
     "data": {
      "application/vnd.jupyter.widget-view+json": {
       "model_id": "891b50a03c124d8db0f69854c6d7c9f8",
       "version_major": 2,
       "version_minor": 0
      },
      "text/plain": [
       "Sanity Checking: 0it [00:00, ?it/s]"
      ]
     },
     "metadata": {},
     "output_type": "display_data"
    },
    {
     "data": {
      "application/vnd.jupyter.widget-view+json": {
       "model_id": "238021a5894641b1bebd390e772f74b4",
       "version_major": 2,
       "version_minor": 0
      },
      "text/plain": [
       "Training: 0it [00:00, ?it/s]"
      ]
     },
     "metadata": {},
     "output_type": "display_data"
    },
    {
     "data": {
      "application/vnd.jupyter.widget-view+json": {
       "model_id": "a6dccccfe0fd48d0abf088fb9e59121b",
       "version_major": 2,
       "version_minor": 0
      },
      "text/plain": [
       "Validation: 0it [00:00, ?it/s]"
      ]
     },
     "metadata": {},
     "output_type": "display_data"
    },
    {
     "data": {
      "application/vnd.jupyter.widget-view+json": {
       "model_id": "8be5866b68f6445b99b4fe8ee1a759fa",
       "version_major": 2,
       "version_minor": 0
      },
      "text/plain": [
       "Validation: 0it [00:00, ?it/s]"
      ]
     },
     "metadata": {},
     "output_type": "display_data"
    },
    {
     "name": "stderr",
     "output_type": "stream",
     "text": [
      "GPU available: True (mps), used: False\n",
      "TPU available: False, using: 0 TPU cores\n",
      "IPU available: False, using: 0 IPUs\n",
      "HPU available: False, using: 0 HPUs\n",
      "\n",
      "  | Name      | Type             | Params\n",
      "-----------------------------------------------\n",
      "0 | metamodel | SubtypeMetamodel | 7.3 K \n",
      "-----------------------------------------------\n",
      "7.3 K     Trainable params\n",
      "0         Non-trainable params\n",
      "7.3 K     Total params\n",
      "0.029     Total estimated model params size (MB)\n"
     ]
    },
    {
     "data": {
      "application/vnd.jupyter.widget-view+json": {
       "model_id": "4bfa786f292c4153bf88978236eac1ed",
       "version_major": 2,
       "version_minor": 0
      },
      "text/plain": [
       "Sanity Checking: 0it [00:00, ?it/s]"
      ]
     },
     "metadata": {},
     "output_type": "display_data"
    },
    {
     "data": {
      "application/vnd.jupyter.widget-view+json": {
       "model_id": "2e27d902c7a64768ae95b644402cb31e",
       "version_major": 2,
       "version_minor": 0
      },
      "text/plain": [
       "Training: 0it [00:00, ?it/s]"
      ]
     },
     "metadata": {},
     "output_type": "display_data"
    },
    {
     "data": {
      "application/vnd.jupyter.widget-view+json": {
       "model_id": "8226e7708da34e3c96383668ca4348a9",
       "version_major": 2,
       "version_minor": 0
      },
      "text/plain": [
       "Validation: 0it [00:00, ?it/s]"
      ]
     },
     "metadata": {},
     "output_type": "display_data"
    },
    {
     "data": {
      "application/vnd.jupyter.widget-view+json": {
       "model_id": "4be0cd50004b4d30983ce88f913f896c",
       "version_major": 2,
       "version_minor": 0
      },
      "text/plain": [
       "Validation: 0it [00:00, ?it/s]"
      ]
     },
     "metadata": {},
     "output_type": "display_data"
    },
    {
     "name": "stderr",
     "output_type": "stream",
     "text": [
      "GPU available: True (mps), used: False\n",
      "TPU available: False, using: 0 TPU cores\n",
      "IPU available: False, using: 0 IPUs\n",
      "HPU available: False, using: 0 HPUs\n",
      "\n",
      "  | Name      | Type             | Params\n",
      "-----------------------------------------------\n",
      "0 | metamodel | SubtypeMetamodel | 7.3 K \n",
      "-----------------------------------------------\n",
      "7.3 K     Trainable params\n",
      "0         Non-trainable params\n",
      "7.3 K     Total params\n",
      "0.029     Total estimated model params size (MB)\n"
     ]
    },
    {
     "data": {
      "application/vnd.jupyter.widget-view+json": {
       "model_id": "c2c7e119f77f4167bf6669227dd98af5",
       "version_major": 2,
       "version_minor": 0
      },
      "text/plain": [
       "Sanity Checking: 0it [00:00, ?it/s]"
      ]
     },
     "metadata": {},
     "output_type": "display_data"
    },
    {
     "data": {
      "application/vnd.jupyter.widget-view+json": {
       "model_id": "ad1f634ef212498db226434f30136514",
       "version_major": 2,
       "version_minor": 0
      },
      "text/plain": [
       "Training: 0it [00:00, ?it/s]"
      ]
     },
     "metadata": {},
     "output_type": "display_data"
    },
    {
     "data": {
      "application/vnd.jupyter.widget-view+json": {
       "model_id": "aef124bbe2f943b4b94ceee876ddd873",
       "version_major": 2,
       "version_minor": 0
      },
      "text/plain": [
       "Validation: 0it [00:00, ?it/s]"
      ]
     },
     "metadata": {},
     "output_type": "display_data"
    },
    {
     "data": {
      "application/vnd.jupyter.widget-view+json": {
       "model_id": "30a64b7284814efd8879d2537d6c50b3",
       "version_major": 2,
       "version_minor": 0
      },
      "text/plain": [
       "Validation: 0it [00:00, ?it/s]"
      ]
     },
     "metadata": {},
     "output_type": "display_data"
    },
    {
     "data": {
      "application/vnd.jupyter.widget-view+json": {
       "model_id": "4fbc3f23202642b6b39780c1d255f631",
       "version_major": 2,
       "version_minor": 0
      },
      "text/plain": [
       "Predicting: 50it [00:00, ?it/s]"
      ]
     },
     "metadata": {},
     "output_type": "display_data"
    },
    {
     "data": {
      "application/vnd.jupyter.widget-view+json": {
       "model_id": "f66889d9fd57442aa7bfa67a2731fd05",
       "version_major": 2,
       "version_minor": 0
      },
      "text/plain": [
       "Predicting: 50it [00:00, ?it/s]"
      ]
     },
     "metadata": {},
     "output_type": "display_data"
    },
    {
     "data": {
      "application/vnd.jupyter.widget-view+json": {
       "model_id": "76b544d094754b4aabcc939556875b59",
       "version_major": 2,
       "version_minor": 0
      },
      "text/plain": [
       "Predicting: 50it [00:00, ?it/s]"
      ]
     },
     "metadata": {},
     "output_type": "display_data"
    },
    {
     "data": {
      "application/vnd.jupyter.widget-view+json": {
       "model_id": "9f4fa4f99685445e81996ec33c85b281",
       "version_major": 2,
       "version_minor": 0
      },
      "text/plain": [
       "Predicting: 50it [00:00, ?it/s]"
      ]
     },
     "metadata": {},
     "output_type": "display_data"
    },
    {
     "data": {
      "application/vnd.jupyter.widget-view+json": {
       "model_id": "f47cbc7cf6784c349f703c8aab00af4d",
       "version_major": 2,
       "version_minor": 0
      },
      "text/plain": [
       "Predicting: 50it [00:00, ?it/s]"
      ]
     },
     "metadata": {},
     "output_type": "display_data"
    },
    {
     "data": {
      "application/vnd.jupyter.widget-view+json": {
       "model_id": "37f7201feb1c4821b32742f3c8bfc1e7",
       "version_major": 2,
       "version_minor": 0
      },
      "text/plain": [
       "Predicting: 50it [00:00, ?it/s]"
      ]
     },
     "metadata": {},
     "output_type": "display_data"
    },
    {
     "data": {
      "application/vnd.jupyter.widget-view+json": {
       "model_id": "31542a4010284ab3a07ed9cf4a921ac1",
       "version_major": 2,
       "version_minor": 0
      },
      "text/plain": [
       "Predicting: 50it [00:00, ?it/s]"
      ]
     },
     "metadata": {},
     "output_type": "display_data"
    },
    {
     "data": {
      "application/vnd.jupyter.widget-view+json": {
       "model_id": "04e7a58ce93244718235daf058ac1f8b",
       "version_major": 2,
       "version_minor": 0
      },
      "text/plain": [
       "Predicting: 50it [00:00, ?it/s]"
      ]
     },
     "metadata": {},
     "output_type": "display_data"
    },
    {
     "data": {
      "application/vnd.jupyter.widget-view+json": {
       "model_id": "27baa1d1afd44886a9e60ac9e3cdd8c3",
       "version_major": 2,
       "version_minor": 0
      },
      "text/plain": [
       "Predicting: 50it [00:00, ?it/s]"
      ]
     },
     "metadata": {},
     "output_type": "display_data"
    },
    {
     "data": {
      "text/plain": [
       "array([[[[-0.        ,  0.00894928, -0.07445232, ...,  0.05026589,\n",
       "           0.03056992,  0.02140233],\n",
       "         [ 0.00894928, -0.        ,  0.02412278, ..., -0.01207276,\n",
       "           0.00479115,  0.01206691],\n",
       "         [-0.07445232,  0.02412278, -0.        , ...,  0.0209108 ,\n",
       "          -0.0013406 ,  0.02417371],\n",
       "         ...,\n",
       "         [ 0.05026589, -0.01207276,  0.0209108 , ..., -0.        ,\n",
       "          -0.00726304, -0.04194701],\n",
       "         [ 0.03056992,  0.00479115, -0.0013406 , ..., -0.00726304,\n",
       "          -0.        , -0.04984678],\n",
       "         [ 0.02140233,  0.01206691,  0.02417371, ..., -0.04194701,\n",
       "          -0.04984678, -0.        ]],\n",
       "\n",
       "        [[-0.        ,  0.00864598, -0.04046843, ...,  0.02259045,\n",
       "           0.0233334 ,  0.01847867],\n",
       "         [ 0.00864598, -0.        ,  0.03281836, ...,  0.00199914,\n",
       "          -0.01154819,  0.0118607 ],\n",
       "         [-0.04046843,  0.03281836, -0.        , ...,  0.04059972,\n",
       "          -0.0105179 ,  0.01726432],\n",
       "         ...,\n",
       "         [ 0.02259045,  0.00199914,  0.04059972, ..., -0.        ,\n",
       "          -0.00941467, -0.04659494],\n",
       "         [ 0.0233334 , -0.01154819, -0.0105179 , ..., -0.00941467,\n",
       "          -0.        , -0.01662189],\n",
       "         [ 0.01847867,  0.0118607 ,  0.01726432, ..., -0.04659494,\n",
       "          -0.01662189, -0.        ]],\n",
       "\n",
       "        [[-0.        ,  0.00144775, -0.08508742, ...,  0.06064089,\n",
       "           0.03307369,  0.02815567],\n",
       "         [ 0.00144775, -0.        ,  0.03534249, ..., -0.01067262,\n",
       "          -0.01092121,  0.00507743],\n",
       "         [-0.08508742,  0.03534249, -0.        , ...,  0.03709621,\n",
       "          -0.01250763,  0.02108477],\n",
       "         ...,\n",
       "         [ 0.06064089, -0.01067262,  0.03709621, ..., -0.        ,\n",
       "           0.00582783, -0.05210876],\n",
       "         [ 0.03307369, -0.01092121, -0.01250763, ...,  0.00582783,\n",
       "          -0.        , -0.05927498],\n",
       "         [ 0.02815567,  0.00507743,  0.02108477, ..., -0.05210876,\n",
       "          -0.05927498, -0.        ]],\n",
       "\n",
       "        ...,\n",
       "\n",
       "        [[-0.        , -0.01371716, -0.05794515, ...,  0.03732851,\n",
       "           0.03162558,  0.02533923],\n",
       "         [-0.01371716, -0.        ,  0.05074313, ...,  0.01815792,\n",
       "          -0.03946792,  0.002075  ],\n",
       "         [-0.05794515,  0.05074313, -0.        , ...,  0.07429312,\n",
       "          -0.02105058,  0.01132729],\n",
       "         ...,\n",
       "         [ 0.03732851,  0.01815792,  0.07429312, ..., -0.        ,\n",
       "          -0.00861934, -0.06250431],\n",
       "         [ 0.03162558, -0.03946792, -0.02105058, ..., -0.00861934,\n",
       "          -0.        , -0.00531899],\n",
       "         [ 0.02533923,  0.002075  ,  0.01132729, ..., -0.06250431,\n",
       "          -0.00531899, -0.        ]],\n",
       "\n",
       "        [[-0.        , -0.00878278, -0.04628382, ...,  0.03721001,\n",
       "           0.0421745 ,  0.0170706 ],\n",
       "         [-0.00878278, -0.        ,  0.03139297, ...,  0.00989013,\n",
       "           0.00896804,  0.00274603],\n",
       "         [-0.04628382,  0.03139297, -0.        , ...,  0.02962362,\n",
       "          -0.00349104,  0.02417351],\n",
       "         ...,\n",
       "         [ 0.03721001,  0.00989013,  0.02962362, ..., -0.        ,\n",
       "          -0.02481201, -0.04466702],\n",
       "         [ 0.0421745 ,  0.00896804, -0.00349104, ..., -0.02481201,\n",
       "          -0.        , -0.00699735],\n",
       "         [ 0.0170706 ,  0.00274603,  0.02417351, ..., -0.04466702,\n",
       "          -0.00699735, -0.        ]],\n",
       "\n",
       "        [[-0.        , -0.02028492, -0.07313115, ...,  0.06363934,\n",
       "           0.06773042,  0.01901917],\n",
       "         [-0.02028492, -0.        ,  0.03022214, ...,  0.00434898,\n",
       "           0.03893801, -0.00289142],\n",
       "         [-0.07313115,  0.03022214, -0.        , ...,  0.01373239,\n",
       "           0.01159651,  0.03868895],\n",
       "         ...,\n",
       "         [ 0.06363934,  0.00434898,  0.01373239, ..., -0.        ,\n",
       "          -0.03931704, -0.04968965],\n",
       "         [ 0.06773042,  0.03893801,  0.01159651, ..., -0.03931704,\n",
       "          -0.        , -0.02568302],\n",
       "         [ 0.01901917, -0.00289142,  0.03868895, ..., -0.04968965,\n",
       "          -0.02568302, -0.        ]]],\n",
       "\n",
       "\n",
       "       [[[-0.        ,  0.01814446, -0.01140582, ...,  0.02452555,\n",
       "          -0.02649556,  0.00190868],\n",
       "         [ 0.01814446, -0.        ,  0.0180739 , ..., -0.02745047,\n",
       "          -0.01928087, -0.01104489],\n",
       "         [-0.01140582,  0.0180739 , -0.        , ...,  0.03092071,\n",
       "          -0.021116  , -0.01958803],\n",
       "         ...,\n",
       "         [ 0.02452555, -0.02745047,  0.03092071, ..., -0.        ,\n",
       "           0.04991877, -0.03589153],\n",
       "         [-0.02649556, -0.01928087, -0.021116  , ...,  0.04991877,\n",
       "          -0.        , -0.03473258],\n",
       "         [ 0.00190868, -0.01104489, -0.01958803, ..., -0.03589153,\n",
       "          -0.03473258, -0.        ]],\n",
       "\n",
       "        [[-0.        ,  0.01851562, -0.01151898, ...,  0.01694371,\n",
       "          -0.03165943, -0.00061533],\n",
       "         [ 0.01851562, -0.        ,  0.01363972, ..., -0.02466341,\n",
       "          -0.02139951, -0.01032947],\n",
       "         [-0.01151898,  0.01363972, -0.        , ...,  0.03317026,\n",
       "          -0.01835967, -0.01826723],\n",
       "         ...,\n",
       "         [ 0.01694371, -0.02466341,  0.03317026, ..., -0.        ,\n",
       "           0.04548343, -0.03230648],\n",
       "         [-0.03165943, -0.02139951, -0.01835967, ...,  0.04548343,\n",
       "          -0.        , -0.02491243],\n",
       "         [-0.00061533, -0.01032947, -0.01826723, ..., -0.03230648,\n",
       "          -0.02491243, -0.        ]],\n",
       "\n",
       "        [[-0.        ,  0.02268959, -0.0158132 , ...,  0.03181425,\n",
       "          -0.03088341,  0.00124667],\n",
       "         [ 0.02268959, -0.        ,  0.02328709, ..., -0.02918339,\n",
       "          -0.01909674, -0.01440383],\n",
       "         [-0.0158132 ,  0.02328709, -0.        , ...,  0.03703887,\n",
       "          -0.02503804, -0.02461912],\n",
       "         ...,\n",
       "         [ 0.03181425, -0.02918339,  0.03703887, ..., -0.        ,\n",
       "           0.05425295, -0.03774528],\n",
       "         [-0.03088341, -0.01909674, -0.02503804, ...,  0.05425295,\n",
       "          -0.        , -0.04035288],\n",
       "         [ 0.00124667, -0.01440383, -0.02461912, ..., -0.03774528,\n",
       "          -0.04035288, -0.        ]],\n",
       "\n",
       "        ...,\n",
       "\n",
       "        [[-0.        ,  0.00376383, -0.01010198, ...,  0.00914281,\n",
       "          -0.00786   ,  0.01735149],\n",
       "         [ 0.00376383, -0.        ,  0.03780901, ...,  0.00308261,\n",
       "          -0.02629118,  0.00578048],\n",
       "         [-0.01010198,  0.03780901, -0.        , ...,  0.04167032,\n",
       "          -0.01526044, -0.02616636],\n",
       "         ...,\n",
       "         [ 0.00914281,  0.00308261,  0.04167032, ..., -0.        ,\n",
       "           0.02099516, -0.0042877 ],\n",
       "         [-0.00786   , -0.02629118, -0.01526044, ...,  0.02099516,\n",
       "          -0.        ,  0.01351384],\n",
       "         [ 0.01735149,  0.00578048, -0.02616636, ..., -0.0042877 ,\n",
       "           0.01351384, -0.        ]],\n",
       "\n",
       "        [[-0.        ,  0.00064033, -0.0002215 , ...,  0.01060195,\n",
       "           0.0016588 ,  0.0209153 ],\n",
       "         [ 0.00064033, -0.        ,  0.03098333, ..., -0.00656277,\n",
       "          -0.01871256, -0.00062615],\n",
       "         [-0.0002215 ,  0.03098333, -0.        , ...,  0.02744909,\n",
       "          -0.01531293, -0.01627143],\n",
       "         ...,\n",
       "         [ 0.01060195, -0.00656277,  0.02744909, ..., -0.        ,\n",
       "           0.02572712, -0.01722846],\n",
       "         [ 0.0016588 , -0.01871256, -0.01531293, ...,  0.02572712,\n",
       "          -0.        , -0.0006356 ],\n",
       "         [ 0.0209153 , -0.00062615, -0.01627143, ..., -0.01722846,\n",
       "          -0.0006356 , -0.        ]],\n",
       "\n",
       "        [[-0.        , -0.00990629,  0.0071013 , ...,  0.01264211,\n",
       "           0.02265581,  0.03174137],\n",
       "         [-0.00990629, -0.        ,  0.04155898, ...,  0.00112293,\n",
       "          -0.0095647 ,  0.00363023],\n",
       "         [ 0.0071013 ,  0.04155898, -0.        , ...,  0.01889576,\n",
       "          -0.01547024, -0.0135814 ],\n",
       "         ...,\n",
       "         [ 0.01264211,  0.00112293,  0.01889576, ..., -0.        ,\n",
       "           0.01579063, -0.00943122],\n",
       "         [ 0.02265581, -0.0095647 , -0.01547024, ...,  0.01579063,\n",
       "          -0.        ,  0.00528739],\n",
       "         [ 0.03174137,  0.00363023, -0.0135814 , ..., -0.00943122,\n",
       "           0.00528739, -0.        ]]],\n",
       "\n",
       "\n",
       "       [[[-0.        ,  0.02002237,  0.00760414, ..., -0.00655364,\n",
       "          -0.00832113,  0.02424734],\n",
       "         [ 0.02002237, -0.        ,  0.0140228 , ..., -0.00404334,\n",
       "          -0.03431764,  0.01491216],\n",
       "         [ 0.00760414,  0.0140228 , -0.        , ...,  0.01946333,\n",
       "          -0.01171386, -0.00174472],\n",
       "         ...,\n",
       "         [-0.00655364, -0.00404334,  0.01946333, ..., -0.        ,\n",
       "          -0.01076566,  0.00439814],\n",
       "         [-0.00832113, -0.03431764, -0.01171386, ..., -0.01076566,\n",
       "          -0.        , -0.04996724],\n",
       "         [ 0.02424734,  0.01491216, -0.00174472, ...,  0.00439814,\n",
       "          -0.04996724, -0.        ]],\n",
       "\n",
       "        [[-0.        ,  0.02663942,  0.02993461, ..., -0.01670839,\n",
       "          -0.05885647,  0.0072329 ],\n",
       "         [ 0.02663942, -0.        ,  0.0217345 , ..., -0.01796795,\n",
       "          -0.04577727,  0.00770857],\n",
       "         [ 0.02993461,  0.0217345 , -0.        , ...,  0.03955436,\n",
       "          -0.03476847, -0.00378654],\n",
       "         ...,\n",
       "         [-0.01670839, -0.01796795,  0.03955436, ..., -0.        ,\n",
       "          -0.0027308 , -0.02724194],\n",
       "         [-0.05885647, -0.04577727, -0.03476847, ..., -0.0027308 ,\n",
       "          -0.        , -0.04542182],\n",
       "         [ 0.0072329 ,  0.00770857, -0.00378654, ..., -0.02724194,\n",
       "          -0.04542182, -0.        ]],\n",
       "\n",
       "        [[-0.        ,  0.01849976,  0.01008337, ...,  0.00030083,\n",
       "          -0.02241579,  0.02385006],\n",
       "         [ 0.01849976, -0.        ,  0.02318304, ..., -0.00301418,\n",
       "          -0.04001768,  0.01406165],\n",
       "         [ 0.01008337,  0.02318304, -0.        , ...,  0.03107374,\n",
       "          -0.0237337 , -0.00571168],\n",
       "         ...,\n",
       "         [ 0.00030083, -0.00301418,  0.03107374, ..., -0.        ,\n",
       "          -0.00826685, -0.00723992],\n",
       "         [-0.02241579, -0.04001768, -0.0237337 , ..., -0.00826685,\n",
       "          -0.        , -0.05318872],\n",
       "         [ 0.02385006,  0.01406165, -0.00571168, ..., -0.00723992,\n",
       "          -0.05318872, -0.        ]],\n",
       "\n",
       "        ...,\n",
       "\n",
       "        [[-0.        ,  0.00533495,  0.02700253, ...,  0.00271943,\n",
       "          -0.06990156,  0.00152252],\n",
       "         [ 0.00533495, -0.        ,  0.04557068, ...,  0.01784293,\n",
       "          -0.05215911, -0.0108195 ],\n",
       "         [ 0.02700253,  0.04557068, -0.        , ...,  0.06373253,\n",
       "          -0.05248962, -0.01470869],\n",
       "         ...,\n",
       "         [ 0.00271943,  0.01784293,  0.06373253, ..., -0.        ,\n",
       "           0.0002847 , -0.05544444],\n",
       "         [-0.06990156, -0.05215911, -0.05248962, ...,  0.0002847 ,\n",
       "          -0.        ,  0.02292772],\n",
       "         [ 0.00152252, -0.0108195 , -0.01470869, ..., -0.05544444,\n",
       "           0.02292772, -0.        ]],\n",
       "\n",
       "        [[-0.        ,  0.00184866,  0.01285073, ..., -0.00203219,\n",
       "          -0.02048914,  0.0152817 ],\n",
       "         [ 0.00184866, -0.        ,  0.02390992, ...,  0.01736553,\n",
       "          -0.02925209, -0.00736512],\n",
       "         [ 0.01285073,  0.02390992, -0.        , ...,  0.02842218,\n",
       "          -0.01841042, -0.00403356],\n",
       "         ...,\n",
       "         [-0.00203219,  0.01736553,  0.02842218, ..., -0.        ,\n",
       "          -0.0067208 , -0.02469296],\n",
       "         [-0.02048914, -0.02925209, -0.01841042, ..., -0.0067208 ,\n",
       "          -0.        ,  0.00873308],\n",
       "         [ 0.0152817 , -0.00736512, -0.00403356, ..., -0.02469296,\n",
       "           0.00873308, -0.        ]],\n",
       "\n",
       "        [[-0.        , -0.01097094, -0.00117484, ...,  0.01667569,\n",
       "           0.01935943,  0.02139617],\n",
       "         [-0.01097094, -0.        ,  0.01202437, ...,  0.02569421,\n",
       "          -0.00731536, -0.00451146],\n",
       "         [-0.00117484,  0.01202437, -0.        , ...,  0.00525411,\n",
       "           0.00282211, -0.00401636],\n",
       "         ...,\n",
       "         [ 0.01667569,  0.02569421,  0.00525411, ..., -0.        ,\n",
       "          -0.01316684,  0.00179024],\n",
       "         [ 0.01935943, -0.00731536,  0.00282211, ..., -0.01316684,\n",
       "          -0.        ,  0.00890972],\n",
       "         [ 0.02139617, -0.00451146, -0.00401636, ...,  0.00179024,\n",
       "           0.00890972, -0.        ]]]])"
      ]
     },
     "execution_count": 4,
     "metadata": {},
     "output_type": "execute_result"
    }
   ],
   "source": [
    "# Markov Networks\n",
    "\n",
    "from contextualized.easy import ContextualizedMarkovNetworks\n",
    "\n",
    "cmn = ContextualizedMarkovNetworks(encoder_type='ngam', num_archetypes=16, n_bootstraps=3)\n",
    "cmn.fit(C, X, max_epochs=5)\n",
    "\n",
    "# Get network\n",
    "cmn.predict_networks(C)\n",
    "\n",
    "# Get precision matrices\n",
    "cmn.predict_precisions(C)\n",
    "\n"
   ]
  },
  {
   "cell_type": "code",
   "execution_count": null,
   "id": "b8284a57",
   "metadata": {},
   "outputs": [],
   "source": [
    "# Bayesian Networks\n",
    "from contextualized.easy import ContextualizedBayesianNetwokrs\n",
    "\n",
    "cbn = ContextualizedMarkovNetworks(encoder_type='ngam', num_archetypes=16, n_bootstraps=3)\n",
    "cbn.fit(C, X, max_epochs=5)\n",
    "\n",
    "# Get network\n",
    "cbn.predict_networks(C)\n"
   ]
  }
 ],
 "metadata": {
  "kernelspec": {
   "display_name": "Python 3 (ipykernel)",
   "language": "python",
   "name": "python3"
  },
  "language_info": {
   "codemirror_mode": {
    "name": "ipython",
    "version": 3
   },
   "file_extension": ".py",
   "mimetype": "text/x-python",
   "name": "python",
   "nbconvert_exporter": "python",
   "pygments_lexer": "ipython3",
   "version": "3.10.8"
  }
 },
 "nbformat": 4,
 "nbformat_minor": 5
}
