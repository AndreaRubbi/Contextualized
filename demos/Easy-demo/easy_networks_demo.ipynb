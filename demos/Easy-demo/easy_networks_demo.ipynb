{
 "cells": [
  {
   "cell_type": "code",
   "execution_count": 1,
   "id": "5967fd61",
   "metadata": {},
   "outputs": [],
   "source": [
    "import numpy as np\n",
    "import matplotlib.pyplot as plt\n",
    "%matplotlib inline"
   ]
  },
  {
   "cell_type": "code",
   "execution_count": 2,
   "id": "76d3c5b5",
   "metadata": {},
   "outputs": [],
   "source": [
    "X = np.random.normal(0, 1, size=(1000, 10))\n",
    "C = np.random.uniform(-1, 1, size=(1000, 5))"
   ]
  },
  {
   "cell_type": "code",
   "execution_count": 3,
   "id": "c850dfc0",
   "metadata": {},
   "outputs": [
    {
     "name": "stderr",
     "output_type": "stream",
     "text": [
      "GPU available: True (mps), used: False\n",
      "TPU available: False, using: 0 TPU cores\n",
      "IPU available: False, using: 0 IPUs\n",
      "HPU available: False, using: 0 HPUs\n",
      "/opt/homebrew/lib/python3.10/site-packages/pytorch_lightning/trainer/trainer.py:1789: UserWarning: MPS available but not used. Set `accelerator` and `devices` using `Trainer(accelerator='mps', devices=1)`.\n",
      "  rank_zero_warn(\n",
      "\n",
      "  | Name      | Type             | Params\n",
      "-----------------------------------------------\n",
      "0 | metamodel | SubtypeMetamodel | 8.8 K \n",
      "-----------------------------------------------\n",
      "8.8 K     Trainable params\n",
      "0         Non-trainable params\n",
      "8.8 K     Total params\n",
      "0.035     Total estimated model params size (MB)\n"
     ]
    },
    {
     "data": {
      "application/vnd.jupyter.widget-view+json": {
       "model_id": "21e8190710304eefa379affc2297c588",
       "version_major": 2,
       "version_minor": 0
      },
      "text/plain": [
       "Sanity Checking: 0it [00:00, ?it/s]"
      ]
     },
     "metadata": {},
     "output_type": "display_data"
    },
    {
     "name": "stderr",
     "output_type": "stream",
     "text": [
      "/opt/homebrew/lib/python3.10/site-packages/pytorch_lightning/trainer/connectors/data_connector.py:236: PossibleUserWarning: The dataloader, val_dataloader 0, does not have many workers which may be a bottleneck. Consider increasing the value of the `num_workers` argument` (try 10 which is the number of cpus on this machine) in the `DataLoader` init to improve performance.\n",
      "  rank_zero_warn(\n",
      "/opt/homebrew/lib/python3.10/site-packages/pytorch_lightning/trainer/connectors/data_connector.py:236: PossibleUserWarning: The dataloader, train_dataloader, does not have many workers which may be a bottleneck. Consider increasing the value of the `num_workers` argument` (try 10 which is the number of cpus on this machine) in the `DataLoader` init to improve performance.\n",
      "  rank_zero_warn(\n"
     ]
    },
    {
     "data": {
      "application/vnd.jupyter.widget-view+json": {
       "model_id": "2e2ff48e640b49bfb5981f93c6d4ac2f",
       "version_major": 2,
       "version_minor": 0
      },
      "text/plain": [
       "Training: 0it [00:00, ?it/s]"
      ]
     },
     "metadata": {},
     "output_type": "display_data"
    },
    {
     "data": {
      "application/vnd.jupyter.widget-view+json": {
       "model_id": "55ee3203fd5644f8b9de09cf94f7bad8",
       "version_major": 2,
       "version_minor": 0
      },
      "text/plain": [
       "Validation: 0it [00:00, ?it/s]"
      ]
     },
     "metadata": {},
     "output_type": "display_data"
    },
    {
     "data": {
      "application/vnd.jupyter.widget-view+json": {
       "model_id": "f52fad299faa49b8a1883270842b8902",
       "version_major": 2,
       "version_minor": 0
      },
      "text/plain": [
       "Validation: 0it [00:00, ?it/s]"
      ]
     },
     "metadata": {},
     "output_type": "display_data"
    },
    {
     "data": {
      "application/vnd.jupyter.widget-view+json": {
       "model_id": "a8dedc60462c428eaa4e239f6ad2c7c7",
       "version_major": 2,
       "version_minor": 0
      },
      "text/plain": [
       "Validation: 0it [00:00, ?it/s]"
      ]
     },
     "metadata": {},
     "output_type": "display_data"
    },
    {
     "data": {
      "application/vnd.jupyter.widget-view+json": {
       "model_id": "52e2d788d5aa413b99b79ec3c2eb1769",
       "version_major": 2,
       "version_minor": 0
      },
      "text/plain": [
       "Validation: 0it [00:00, ?it/s]"
      ]
     },
     "metadata": {},
     "output_type": "display_data"
    },
    {
     "data": {
      "application/vnd.jupyter.widget-view+json": {
       "model_id": "417c61f592064bcd8bd539dc9f12314e",
       "version_major": 2,
       "version_minor": 0
      },
      "text/plain": [
       "Validation: 0it [00:00, ?it/s]"
      ]
     },
     "metadata": {},
     "output_type": "display_data"
    },
    {
     "name": "stderr",
     "output_type": "stream",
     "text": [
      "`Trainer.fit` stopped: `max_epochs=5` reached.\n",
      "/opt/homebrew/lib/python3.10/site-packages/pytorch_lightning/trainer/connectors/data_connector.py:236: PossibleUserWarning: The dataloader, predict_dataloader 0, does not have many workers which may be a bottleneck. Consider increasing the value of the `num_workers` argument` (try 10 which is the number of cpus on this machine) in the `DataLoader` init to improve performance.\n",
      "  rank_zero_warn(\n"
     ]
    },
    {
     "data": {
      "application/vnd.jupyter.widget-view+json": {
       "model_id": "0a4261407f2d47c1a77617153663eb0d",
       "version_major": 2,
       "version_minor": 0
      },
      "text/plain": [
       "Predicting: 50it [00:00, ?it/s]"
      ]
     },
     "metadata": {},
     "output_type": "display_data"
    },
    {
     "name": "stderr",
     "output_type": "stream",
     "text": [
      "/opt/homebrew/lib/python3.10/site-packages/pytorch_lightning/loops/epoch/prediction_epoch_loop.py:174: UserWarning: Lightning couldn't infer the indices fetched for your dataloader.\n",
      "  warning_cache.warn(\"Lightning couldn't infer the indices fetched for your dataloader.\")\n"
     ]
    },
    {
     "data": {
      "application/vnd.jupyter.widget-view+json": {
       "model_id": "ec7856003ed645c7ad904dd236bdb849",
       "version_major": 2,
       "version_minor": 0
      },
      "text/plain": [
       "Predicting: 50it [00:00, ?it/s]"
      ]
     },
     "metadata": {},
     "output_type": "display_data"
    },
    {
     "data": {
      "text/plain": [
       "array([[[[9.42376806e-01, 3.22128422e-04, 3.97906285e-06, ...,\n",
       "          4.97424062e-04, 5.63829465e-04, 3.55791195e-04],\n",
       "         [1.85656503e-04, 9.29197722e-01, 4.37957817e-03, ...,\n",
       "          1.80933077e-03, 1.13799691e-03, 4.65471991e-06],\n",
       "         [9.74109472e-05, 3.86979038e-03, 9.20702274e-01, ...,\n",
       "          8.39074579e-05, 2.52359410e-03, 1.38938963e-03],\n",
       "         ...,\n",
       "         [5.59516249e-04, 6.19356800e-04, 1.05445116e-04, ...,\n",
       "          9.30136903e-01, 1.49375586e-04, 9.85036173e-05],\n",
       "         [8.41842391e-04, 1.68202878e-03, 2.36636946e-03, ...,\n",
       "          8.08966269e-05, 9.27635236e-01, 1.00710758e-03],\n",
       "         [4.72606736e-04, 6.27032376e-05, 3.64995689e-03, ...,\n",
       "          8.45732709e-05, 9.56648849e-04, 9.25129141e-01]],\n",
       "\n",
       "        [[9.31585050e-01, 9.43350539e-05, 3.91972213e-04, ...,\n",
       "          3.67773380e-05, 2.81045516e-05, 1.03074554e-03],\n",
       "         [4.48290857e-05, 9.18843539e-01, 4.87311093e-03, ...,\n",
       "          4.14017000e-03, 4.19817992e-03, 6.43572158e-04],\n",
       "         [5.38728727e-05, 4.48640681e-03, 9.17850347e-01, ...,\n",
       "          1.18688420e-04, 7.75873189e-04, 8.34703924e-04],\n",
       "         ...,\n",
       "         [1.65305882e-04, 2.08450633e-03, 5.92410590e-05, ...,\n",
       "          9.39293327e-01, 5.23793065e-06, 1.77167485e-05],\n",
       "         [6.24965475e-07, 4.01954587e-03, 1.35088041e-03, ...,\n",
       "          5.30561005e-05, 9.46439722e-01, 2.11679007e-03],\n",
       "         [1.00668912e-03, 9.37618812e-04, 7.95857127e-04, ...,\n",
       "          1.02938017e-04, 1.29743688e-03, 9.32304309e-01]],\n",
       "\n",
       "        [[9.07217050e-01, 2.80981427e-04, 3.69405805e-07, ...,\n",
       "          2.03864375e-04, 1.59602439e-03, 4.81344490e-04],\n",
       "         [1.73228563e-04, 9.16518254e-01, 4.18267969e-03, ...,\n",
       "          7.33144997e-04, 1.42317940e-03, 2.39468562e-05],\n",
       "         [1.10158310e-04, 3.58509596e-03, 9.16171917e-01, ...,\n",
       "          1.16889771e-03, 2.87861622e-03, 2.80633473e-03],\n",
       "         ...,\n",
       "         [7.42476605e-05, 4.64545156e-04, 1.68397153e-03, ...,\n",
       "          8.97237750e-01, 2.67352839e-06, 2.27884926e-04],\n",
       "         [1.06747146e-03, 9.22778912e-04, 3.19650003e-03, ...,\n",
       "          2.63847803e-06, 9.06383598e-01, 8.63121644e-04],\n",
       "         [5.97942704e-04, 4.60039370e-05, 2.38235697e-03, ...,\n",
       "          2.43378293e-04, 4.67904295e-04, 9.02193892e-01]],\n",
       "\n",
       "        ...,\n",
       "\n",
       "        [[9.29354353e-01, 3.40256026e-04, 3.69766743e-06, ...,\n",
       "          6.32262587e-04, 1.37556667e-03, 4.33469423e-04],\n",
       "         [4.74563273e-04, 9.42318945e-01, 4.69281308e-03, ...,\n",
       "          1.00615446e-03, 4.88368108e-03, 1.58599516e-05],\n",
       "         [7.13643315e-06, 4.60729651e-03, 9.35351169e-01, ...,\n",
       "          5.03081123e-06, 2.10072595e-03, 6.81744014e-04],\n",
       "         ...,\n",
       "         [3.99514650e-04, 7.78300098e-04, 1.00132424e-05, ...,\n",
       "          9.33375886e-01, 1.13830631e-04, 3.46912844e-05],\n",
       "         [1.62317768e-03, 4.64817237e-03, 2.35244491e-03, ...,\n",
       "          2.44672933e-04, 9.22509302e-01, 9.11494490e-04],\n",
       "         [5.00615398e-04, 4.06196383e-05, 5.97634755e-04, ...,\n",
       "          9.01574547e-05, 3.38152910e-04, 9.40486828e-01]],\n",
       "\n",
       "        [[9.50610053e-01, 2.94039761e-04, 1.04636173e-04, ...,\n",
       "          2.73278823e-04, 1.44438583e-03, 6.55910543e-04],\n",
       "         [3.34688873e-04, 9.77671079e-01, 5.36199432e-03, ...,\n",
       "          1.07113086e-03, 5.17287008e-03, 4.94116031e-05],\n",
       "         [2.68733938e-04, 5.22282453e-03, 9.74104619e-01, ...,\n",
       "          3.28257997e-04, 2.41478965e-03, 1.23460023e-03],\n",
       "         ...,\n",
       "         [9.14428634e-05, 9.28284615e-04, 3.16697301e-04, ...,\n",
       "          9.57639577e-01, 3.07491155e-06, 1.88255834e-06],\n",
       "         [1.19180043e-03, 4.34126815e-03, 2.59851505e-03, ...,\n",
       "          5.30804229e-05, 9.56197073e-01, 9.27385789e-04],\n",
       "         [6.42790077e-04, 6.77189332e-06, 4.20567165e-04, ...,\n",
       "          6.52389112e-05, 1.86610859e-04, 9.64247780e-01]],\n",
       "\n",
       "        [[9.45811369e-01, 1.04260828e-03, 1.24387985e-04, ...,\n",
       "          1.91856341e-04, 6.24070067e-04, 9.17046345e-04],\n",
       "         [9.66393805e-04, 9.57326495e-01, 4.49026426e-03, ...,\n",
       "          1.65854810e-03, 7.28127155e-03, 2.02260669e-04],\n",
       "         [4.79644465e-05, 4.36440781e-03, 9.60351439e-01, ...,\n",
       "          2.98514762e-05, 1.20075222e-03, 3.62457755e-04],\n",
       "         ...,\n",
       "         [1.51447541e-04, 1.46498387e-03, 6.20728614e-05, ...,\n",
       "          9.55431833e-01, 4.98536174e-05, 6.70005242e-05],\n",
       "         [4.33270503e-04, 7.07055830e-03, 1.74525951e-03, ...,\n",
       "          7.40072358e-05, 9.56658509e-01, 1.49151553e-03],\n",
       "         [7.34913781e-04, 2.64441058e-05, 1.00772763e-05, ...,\n",
       "          9.60609326e-06, 3.12165117e-04, 9.63323822e-01]]]])"
      ]
     },
     "execution_count": 3,
     "metadata": {},
     "output_type": "execute_result"
    }
   ],
   "source": [
    "# Correlation Networks\n",
    "from contextualized.easy import ContextualizedCorrelationNetworks\n",
    "\n",
    "ccn = ContextualizedCorrelationNetworks(encoder_type='ngam', num_archetypes=16, n_bootstraps=3)\n",
    "ccn.fit(C, X, max_epochs=5)\n",
    "\n",
    "# Get rho\n",
    "ccn.predict_correlation(C, squared=False)\n",
    "\n",
    "# Get rho^2\n",
    "ccn.predict_correlation(C, squared=True)"
   ]
  },
  {
   "cell_type": "code",
   "execution_count": 5,
   "id": "515bf779",
   "metadata": {},
   "outputs": [
    {
     "name": "stderr",
     "output_type": "stream",
     "text": [
      "GPU available: True (mps), used: False\n",
      "TPU available: False, using: 0 TPU cores\n",
      "IPU available: False, using: 0 IPUs\n",
      "HPU available: False, using: 0 HPUs\n",
      "/opt/homebrew/lib/python3.10/site-packages/pytorch_lightning/trainer/trainer.py:1789: UserWarning: MPS available but not used. Set `accelerator` and `devices` using `Trainer(accelerator='mps', devices=1)`.\n",
      "  rank_zero_warn(\n",
      "\n",
      "  | Name      | Type             | Params\n",
      "-----------------------------------------------\n",
      "0 | metamodel | SubtypeMetamodel | 7.3 K \n",
      "-----------------------------------------------\n",
      "7.3 K     Trainable params\n",
      "0         Non-trainable params\n",
      "7.3 K     Total params\n",
      "0.029     Total estimated model params size (MB)\n"
     ]
    },
    {
     "data": {
      "application/vnd.jupyter.widget-view+json": {
       "model_id": "7ed6919d39b04e54a693ee3790952e27",
       "version_major": 2,
       "version_minor": 0
      },
      "text/plain": [
       "Sanity Checking: 0it [00:00, ?it/s]"
      ]
     },
     "metadata": {},
     "output_type": "display_data"
    },
    {
     "name": "stderr",
     "output_type": "stream",
     "text": [
      "/opt/homebrew/lib/python3.10/site-packages/pytorch_lightning/trainer/connectors/data_connector.py:236: PossibleUserWarning: The dataloader, val_dataloader 0, does not have many workers which may be a bottleneck. Consider increasing the value of the `num_workers` argument` (try 10 which is the number of cpus on this machine) in the `DataLoader` init to improve performance.\n",
      "  rank_zero_warn(\n",
      "/opt/homebrew/lib/python3.10/site-packages/pytorch_lightning/trainer/connectors/data_connector.py:236: PossibleUserWarning: The dataloader, train_dataloader, does not have many workers which may be a bottleneck. Consider increasing the value of the `num_workers` argument` (try 10 which is the number of cpus on this machine) in the `DataLoader` init to improve performance.\n",
      "  rank_zero_warn(\n"
     ]
    },
    {
     "data": {
      "application/vnd.jupyter.widget-view+json": {
       "model_id": "c43d7804141740f68eb5cf2f1ca4f3ab",
       "version_major": 2,
       "version_minor": 0
      },
      "text/plain": [
       "Training: 0it [00:00, ?it/s]"
      ]
     },
     "metadata": {},
     "output_type": "display_data"
    },
    {
     "data": {
      "application/vnd.jupyter.widget-view+json": {
       "model_id": "c710b53c1d1148b890b6de06898d2a1f",
       "version_major": 2,
       "version_minor": 0
      },
      "text/plain": [
       "Validation: 0it [00:00, ?it/s]"
      ]
     },
     "metadata": {},
     "output_type": "display_data"
    },
    {
     "data": {
      "application/vnd.jupyter.widget-view+json": {
       "model_id": "96364794b0ba47339e020304b9536016",
       "version_major": 2,
       "version_minor": 0
      },
      "text/plain": [
       "Validation: 0it [00:00, ?it/s]"
      ]
     },
     "metadata": {},
     "output_type": "display_data"
    },
    {
     "name": "stderr",
     "output_type": "stream",
     "text": [
      "GPU available: True (mps), used: False\n",
      "TPU available: False, using: 0 TPU cores\n",
      "IPU available: False, using: 0 IPUs\n",
      "HPU available: False, using: 0 HPUs\n",
      "\n",
      "  | Name      | Type             | Params\n",
      "-----------------------------------------------\n",
      "0 | metamodel | SubtypeMetamodel | 7.3 K \n",
      "-----------------------------------------------\n",
      "7.3 K     Trainable params\n",
      "0         Non-trainable params\n",
      "7.3 K     Total params\n",
      "0.029     Total estimated model params size (MB)\n"
     ]
    },
    {
     "data": {
      "application/vnd.jupyter.widget-view+json": {
       "model_id": "6ff70eabc09e4c009646652f4a062a87",
       "version_major": 2,
       "version_minor": 0
      },
      "text/plain": [
       "Sanity Checking: 0it [00:00, ?it/s]"
      ]
     },
     "metadata": {},
     "output_type": "display_data"
    },
    {
     "data": {
      "application/vnd.jupyter.widget-view+json": {
       "model_id": "1cc74b050f20495ca60ac6b124f9b841",
       "version_major": 2,
       "version_minor": 0
      },
      "text/plain": [
       "Training: 0it [00:00, ?it/s]"
      ]
     },
     "metadata": {},
     "output_type": "display_data"
    },
    {
     "data": {
      "application/vnd.jupyter.widget-view+json": {
       "model_id": "a7643b7163134d70912c976afda6312a",
       "version_major": 2,
       "version_minor": 0
      },
      "text/plain": [
       "Validation: 0it [00:00, ?it/s]"
      ]
     },
     "metadata": {},
     "output_type": "display_data"
    },
    {
     "data": {
      "application/vnd.jupyter.widget-view+json": {
       "model_id": "22d0e6b903194ebebafa8e8b21e190a8",
       "version_major": 2,
       "version_minor": 0
      },
      "text/plain": [
       "Validation: 0it [00:00, ?it/s]"
      ]
     },
     "metadata": {},
     "output_type": "display_data"
    },
    {
     "name": "stderr",
     "output_type": "stream",
     "text": [
      "GPU available: True (mps), used: False\n",
      "TPU available: False, using: 0 TPU cores\n",
      "IPU available: False, using: 0 IPUs\n",
      "HPU available: False, using: 0 HPUs\n",
      "\n",
      "  | Name      | Type             | Params\n",
      "-----------------------------------------------\n",
      "0 | metamodel | SubtypeMetamodel | 7.3 K \n",
      "-----------------------------------------------\n",
      "7.3 K     Trainable params\n",
      "0         Non-trainable params\n",
      "7.3 K     Total params\n",
      "0.029     Total estimated model params size (MB)\n"
     ]
    },
    {
     "data": {
      "application/vnd.jupyter.widget-view+json": {
       "model_id": "a2f23648f81d4d2eb623a7871742d06c",
       "version_major": 2,
       "version_minor": 0
      },
      "text/plain": [
       "Sanity Checking: 0it [00:00, ?it/s]"
      ]
     },
     "metadata": {},
     "output_type": "display_data"
    },
    {
     "data": {
      "application/vnd.jupyter.widget-view+json": {
       "model_id": "144f03b39c1d48138cc4bc08a1e34dbb",
       "version_major": 2,
       "version_minor": 0
      },
      "text/plain": [
       "Training: 0it [00:00, ?it/s]"
      ]
     },
     "metadata": {},
     "output_type": "display_data"
    },
    {
     "data": {
      "application/vnd.jupyter.widget-view+json": {
       "model_id": "478b3751c4dc404aabc24d6f65e161a4",
       "version_major": 2,
       "version_minor": 0
      },
      "text/plain": [
       "Validation: 0it [00:00, ?it/s]"
      ]
     },
     "metadata": {},
     "output_type": "display_data"
    },
    {
     "data": {
      "application/vnd.jupyter.widget-view+json": {
       "model_id": "22f9f4b50c4e4f70b5f9196a23c11617",
       "version_major": 2,
       "version_minor": 0
      },
      "text/plain": [
       "Validation: 0it [00:00, ?it/s]"
      ]
     },
     "metadata": {},
     "output_type": "display_data"
    },
    {
     "name": "stderr",
     "output_type": "stream",
     "text": [
      "/opt/homebrew/lib/python3.10/site-packages/pytorch_lightning/trainer/connectors/data_connector.py:236: PossibleUserWarning: The dataloader, predict_dataloader 0, does not have many workers which may be a bottleneck. Consider increasing the value of the `num_workers` argument` (try 10 which is the number of cpus on this machine) in the `DataLoader` init to improve performance.\n",
      "  rank_zero_warn(\n"
     ]
    },
    {
     "data": {
      "application/vnd.jupyter.widget-view+json": {
       "model_id": "9b19ef53dc6548fb81897b8799f53b72",
       "version_major": 2,
       "version_minor": 0
      },
      "text/plain": [
       "Predicting: 50it [00:00, ?it/s]"
      ]
     },
     "metadata": {},
     "output_type": "display_data"
    },
    {
     "data": {
      "application/vnd.jupyter.widget-view+json": {
       "model_id": "d699f241ce0846aea24fdd86a8bbad7d",
       "version_major": 2,
       "version_minor": 0
      },
      "text/plain": [
       "Predicting: 50it [00:00, ?it/s]"
      ]
     },
     "metadata": {},
     "output_type": "display_data"
    },
    {
     "data": {
      "application/vnd.jupyter.widget-view+json": {
       "model_id": "1a8fe2f2f79343428da8ddccd5dd733f",
       "version_major": 2,
       "version_minor": 0
      },
      "text/plain": [
       "Predicting: 50it [00:00, ?it/s]"
      ]
     },
     "metadata": {},
     "output_type": "display_data"
    },
    {
     "data": {
      "application/vnd.jupyter.widget-view+json": {
       "model_id": "bd791333d11c4a3d9b939470c4788513",
       "version_major": 2,
       "version_minor": 0
      },
      "text/plain": [
       "Predicting: 50it [00:00, ?it/s]"
      ]
     },
     "metadata": {},
     "output_type": "display_data"
    },
    {
     "data": {
      "application/vnd.jupyter.widget-view+json": {
       "model_id": "1e0c256956d64855a0b58c7f99f87e25",
       "version_major": 2,
       "version_minor": 0
      },
      "text/plain": [
       "Predicting: 50it [00:00, ?it/s]"
      ]
     },
     "metadata": {},
     "output_type": "display_data"
    },
    {
     "data": {
      "application/vnd.jupyter.widget-view+json": {
       "model_id": "ac7ab4bb458f4f4eadb1b739cb7331c4",
       "version_major": 2,
       "version_minor": 0
      },
      "text/plain": [
       "Predicting: 50it [00:00, ?it/s]"
      ]
     },
     "metadata": {},
     "output_type": "display_data"
    },
    {
     "data": {
      "application/vnd.jupyter.widget-view+json": {
       "model_id": "dbaa6b20faa8495a9f4e8f3d8803b5d1",
       "version_major": 2,
       "version_minor": 0
      },
      "text/plain": [
       "Predicting: 50it [00:00, ?it/s]"
      ]
     },
     "metadata": {},
     "output_type": "display_data"
    },
    {
     "data": {
      "application/vnd.jupyter.widget-view+json": {
       "model_id": "58acb5ca19a6405198123bf62d8cfbab",
       "version_major": 2,
       "version_minor": 0
      },
      "text/plain": [
       "Predicting: 50it [00:00, ?it/s]"
      ]
     },
     "metadata": {},
     "output_type": "display_data"
    },
    {
     "data": {
      "application/vnd.jupyter.widget-view+json": {
       "model_id": "c2f31f10eca24859b30dd76313ae8d61",
       "version_major": 2,
       "version_minor": 0
      },
      "text/plain": [
       "Predicting: 50it [00:00, ?it/s]"
      ]
     },
     "metadata": {},
     "output_type": "display_data"
    },
    {
     "data": {
      "text/plain": [
       "array([[[[-0.        ,  0.03042605,  0.01844932, ...,  0.02232271,\n",
       "          -0.01566027, -0.04849378],\n",
       "         [ 0.03042605, -0.        ,  0.06955299, ...,  0.06353463,\n",
       "          -0.06003746,  0.0083718 ],\n",
       "         [ 0.01844932,  0.06955299, -0.        , ...,  0.04410277,\n",
       "           0.00201785, -0.02752695],\n",
       "         ...,\n",
       "         [ 0.02232271,  0.06353463,  0.04410277, ..., -0.        ,\n",
       "          -0.02611144, -0.04024581],\n",
       "         [-0.01566027, -0.06003746,  0.00201785, ..., -0.02611144,\n",
       "          -0.        ,  0.06387095],\n",
       "         [-0.04849378,  0.0083718 , -0.02752695, ..., -0.04024581,\n",
       "           0.06387095, -0.        ]],\n",
       "\n",
       "        [[-0.        ,  0.03129807,  0.01574817, ...,  0.03111304,\n",
       "          -0.02349474, -0.04036675],\n",
       "         [ 0.03129807, -0.        ,  0.0537944 , ...,  0.05598702,\n",
       "          -0.06065875,  0.01291866],\n",
       "         [ 0.01574817,  0.0537944 , -0.        , ...,  0.06581999,\n",
       "           0.00461327, -0.01510983],\n",
       "         ...,\n",
       "         [ 0.03111304,  0.05598702,  0.06581999, ..., -0.        ,\n",
       "          -0.02154179, -0.02496582],\n",
       "         [-0.02349474, -0.06065875,  0.00461327, ..., -0.02154179,\n",
       "          -0.        ,  0.06929091],\n",
       "         [-0.04036675,  0.01291866, -0.01510983, ..., -0.02496582,\n",
       "           0.06929091, -0.        ]],\n",
       "\n",
       "        [[-0.        ,  0.02419111,  0.01847449, ..., -0.00059791,\n",
       "           0.0216019 , -0.01505908],\n",
       "         [ 0.02419111, -0.        ,  0.03378423, ...,  0.02393546,\n",
       "          -0.03928053, -0.00738824],\n",
       "         [ 0.01847449,  0.03378423, -0.        , ...,  0.01115144,\n",
       "          -0.00202797, -0.00892452],\n",
       "         ...,\n",
       "         [-0.00059791,  0.02393546,  0.01115144, ..., -0.        ,\n",
       "           0.00563984, -0.03318183],\n",
       "         [ 0.0216019 , -0.03928053, -0.00202797, ...,  0.00563984,\n",
       "          -0.        ,  0.02653814],\n",
       "         [-0.01505908, -0.00738824, -0.00892452, ..., -0.03318183,\n",
       "           0.02653814, -0.        ]],\n",
       "\n",
       "        ...,\n",
       "\n",
       "        [[-0.        ,  0.06930239,  0.03662326, ..., -0.01210836,\n",
       "           0.04628053, -0.02156226],\n",
       "         [ 0.06930239, -0.        ,  0.05801031, ...,  0.04758951,\n",
       "          -0.06369087, -0.02687028],\n",
       "         [ 0.03662326,  0.05801031, -0.        , ...,  0.03790275,\n",
       "          -0.00098894, -0.02363861],\n",
       "         ...,\n",
       "         [-0.01210836,  0.04758951,  0.03790275, ..., -0.        ,\n",
       "           0.01155996, -0.04907984],\n",
       "         [ 0.04628053, -0.06369087, -0.00098894, ...,  0.01155996,\n",
       "          -0.        ,  0.00343268],\n",
       "         [-0.02156226, -0.02687028, -0.02363861, ..., -0.04907984,\n",
       "           0.00343268, -0.        ]],\n",
       "\n",
       "        [[-0.        ,  0.0504188 ,  0.0364999 , ..., -0.01649749,\n",
       "           0.0405283 , -0.00877625],\n",
       "         [ 0.0504188 , -0.        ,  0.03816675, ...,  0.03297859,\n",
       "          -0.05041203, -0.0206953 ],\n",
       "         [ 0.0364999 ,  0.03816675, -0.        , ...,  0.01719696,\n",
       "          -0.00777256, -0.01452667],\n",
       "         ...,\n",
       "         [-0.01649749,  0.03297859,  0.01719696, ..., -0.        ,\n",
       "           0.02015936, -0.03245546],\n",
       "         [ 0.0405283 , -0.05041203, -0.00777256, ...,  0.02015936,\n",
       "          -0.        ,  0.00119134],\n",
       "         [-0.00877625, -0.0206953 , -0.01452667, ..., -0.03245546,\n",
       "           0.00119134, -0.        ]],\n",
       "\n",
       "        [[-0.        ,  0.04737104,  0.02510624, ..., -0.00129872,\n",
       "           0.02238181, -0.00584601],\n",
       "         [ 0.04737104, -0.        ,  0.02637809, ...,  0.02693436,\n",
       "          -0.04601701, -0.01577369],\n",
       "         [ 0.02510624,  0.02637809, -0.        , ...,  0.03880063,\n",
       "          -0.0008128 , -0.00232737],\n",
       "         ...,\n",
       "         [-0.00129872,  0.02693436,  0.03880063, ..., -0.        ,\n",
       "           0.01350203, -0.02079687],\n",
       "         [ 0.02238181, -0.04601701, -0.0008128 , ...,  0.01350203,\n",
       "          -0.        ,  0.01555656],\n",
       "         [-0.00584601, -0.01577369, -0.00232737, ..., -0.02079687,\n",
       "           0.01555656, -0.        ]]],\n",
       "\n",
       "\n",
       "       [[[-0.        , -0.03709219, -0.04246871, ..., -0.01454479,\n",
       "           0.03481855, -0.02280797],\n",
       "         [-0.03709219, -0.        ,  0.03865263, ...,  0.04515029,\n",
       "          -0.00324837, -0.01488839],\n",
       "         [-0.04246871,  0.03865263, -0.        , ...,  0.02063101,\n",
       "          -0.03066161, -0.01712616],\n",
       "         ...,\n",
       "         [-0.01454479,  0.04515029,  0.02063101, ..., -0.        ,\n",
       "          -0.04444735, -0.06187422],\n",
       "         [ 0.03481855, -0.00324837, -0.03066161, ..., -0.04444735,\n",
       "          -0.        ,  0.03461943],\n",
       "         [-0.02280797, -0.01488839, -0.01712616, ..., -0.06187422,\n",
       "           0.03461943, -0.        ]],\n",
       "\n",
       "        [[-0.        , -0.03218957, -0.02011584, ...,  0.01184804,\n",
       "           0.00343721, -0.0208218 ],\n",
       "         [-0.03218957, -0.        ,  0.02460308, ...,  0.02771174,\n",
       "          -0.01902208,  0.01014335],\n",
       "         [-0.02011584,  0.02460308, -0.        , ...,  0.02680403,\n",
       "          -0.00471991, -0.0144196 ],\n",
       "         ...,\n",
       "         [ 0.01184804,  0.02771174,  0.02680403, ..., -0.        ,\n",
       "          -0.03531762, -0.02549958],\n",
       "         [ 0.00343721, -0.01902208, -0.00471991, ..., -0.03531762,\n",
       "          -0.        ,  0.03642966],\n",
       "         [-0.0208218 ,  0.01014335, -0.0144196 , ..., -0.02549958,\n",
       "           0.03642966, -0.        ]],\n",
       "\n",
       "        [[-0.        , -0.02311069, -0.02100404, ..., -0.00108896,\n",
       "           0.02791095, -0.02714455],\n",
       "         [-0.02311069, -0.        ,  0.02913521, ...,  0.03082052,\n",
       "          -0.01800844, -0.01060901],\n",
       "         [-0.02100404,  0.02913521, -0.        , ...,  0.01559479,\n",
       "          -0.03041691, -0.01991119],\n",
       "         ...,\n",
       "         [-0.00108896,  0.03082052,  0.01559479, ..., -0.        ,\n",
       "          -0.03281457, -0.04598625],\n",
       "         [ 0.02791095, -0.01800844, -0.03041691, ..., -0.03281457,\n",
       "          -0.        ,  0.03785784],\n",
       "         [-0.02714455, -0.01060901, -0.01991119, ..., -0.04598625,\n",
       "           0.03785784, -0.        ]],\n",
       "\n",
       "        ...,\n",
       "\n",
       "        [[-0.        , -0.01860401, -0.01894761, ..., -0.00591402,\n",
       "           0.02499249, -0.02437193],\n",
       "         [-0.01860401, -0.        ,  0.03562582, ...,  0.04957739,\n",
       "          -0.03609506, -0.0097148 ],\n",
       "         [-0.01894761,  0.03562582, -0.        , ...,  0.01482633,\n",
       "          -0.03624453, -0.02349559],\n",
       "         ...,\n",
       "         [-0.00591402,  0.04957739,  0.01482633, ..., -0.        ,\n",
       "          -0.0279098 , -0.05776666],\n",
       "         [ 0.02499249, -0.03609506, -0.03624453, ..., -0.0279098 ,\n",
       "          -0.        ,  0.03293453],\n",
       "         [-0.02437193, -0.0097148 , -0.02349559, ..., -0.05776666,\n",
       "           0.03293453, -0.        ]],\n",
       "\n",
       "        [[-0.        , -0.01733372, -0.0042082 , ...,  0.00888342,\n",
       "           0.01175054, -0.02376372],\n",
       "         [-0.01733372, -0.        ,  0.02510858, ...,  0.03032042,\n",
       "          -0.03219498,  0.00177666],\n",
       "         [-0.0042082 ,  0.02510858, -0.        , ...,  0.0174355 ,\n",
       "          -0.02010275, -0.0225    ],\n",
       "         ...,\n",
       "         [ 0.00888342,  0.03032042,  0.0174355 , ..., -0.        ,\n",
       "          -0.02440702, -0.03209782],\n",
       "         [ 0.01175054, -0.03219498, -0.02010275, ..., -0.02440702,\n",
       "          -0.        ,  0.03489258],\n",
       "         [-0.02376372,  0.00177666, -0.0225    , ..., -0.03209782,\n",
       "           0.03489258, -0.        ]],\n",
       "\n",
       "        [[-0.        , -0.01868987, -0.00861182, ...,  0.01507994,\n",
       "           0.0021105 , -0.01780006],\n",
       "         [-0.01868987, -0.        ,  0.02037768, ...,  0.02154981,\n",
       "          -0.02364963,  0.00646344],\n",
       "         [-0.00861182,  0.02037768, -0.        , ...,  0.02224026,\n",
       "          -0.00873876, -0.01601235],\n",
       "         ...,\n",
       "         [ 0.01507994,  0.02154981,  0.02224026, ..., -0.        ,\n",
       "          -0.01969802, -0.02034163],\n",
       "         [ 0.0021105 , -0.02364963, -0.00873876, ..., -0.01969802,\n",
       "          -0.        ,  0.03507702],\n",
       "         [-0.01780006,  0.00646344, -0.01601235, ..., -0.02034163,\n",
       "           0.03507702, -0.        ]]],\n",
       "\n",
       "\n",
       "       [[[-0.        , -0.01333648,  0.01363533, ..., -0.03501314,\n",
       "          -0.00174528, -0.00916754],\n",
       "         [-0.01333648, -0.        ,  0.03969149, ...,  0.04847202,\n",
       "          -0.01337591,  0.00891689],\n",
       "         [ 0.01363533,  0.03969149, -0.        , ..., -0.03510874,\n",
       "          -0.0260885 , -0.0311098 ],\n",
       "         ...,\n",
       "         [-0.03501314,  0.04847202, -0.03510874, ..., -0.        ,\n",
       "          -0.00502298, -0.04586997],\n",
       "         [-0.00174528, -0.01337591, -0.0260885 , ..., -0.00502298,\n",
       "          -0.        ,  0.01573606],\n",
       "         [-0.00916754,  0.00891689, -0.0311098 , ..., -0.04586997,\n",
       "           0.01573606, -0.        ]],\n",
       "\n",
       "        [[-0.        , -0.00819751,  0.00474487, ...,  0.0116297 ,\n",
       "          -0.04099505, -0.00884059],\n",
       "         [-0.00819751, -0.        ,  0.04352077, ...,  0.04083218,\n",
       "          -0.03030443,  0.03872209],\n",
       "         [ 0.00474487,  0.04352077, -0.        , ...,  0.02341543,\n",
       "          -0.022163  , -0.02334022],\n",
       "         ...,\n",
       "         [ 0.0116297 ,  0.04083218,  0.02341543, ..., -0.        ,\n",
       "          -0.01612204, -0.00886915],\n",
       "         [-0.04099505, -0.03030443, -0.022163  , ..., -0.01612204,\n",
       "          -0.        ,  0.02042673],\n",
       "         [-0.00884059,  0.03872209, -0.02334022, ..., -0.00886915,\n",
       "           0.02042673, -0.        ]],\n",
       "\n",
       "        [[-0.        , -0.00618212,  0.01415205, ..., -0.01189602,\n",
       "           0.00520984,  0.00274274],\n",
       "         [-0.00618212, -0.        ,  0.00034576, ...,  0.00111394,\n",
       "          -0.00946988, -0.01174847],\n",
       "         [ 0.01415205,  0.00034576, -0.        , ..., -0.03712167,\n",
       "          -0.01668218, -0.03292339],\n",
       "         ...,\n",
       "         [-0.01189602,  0.00111394, -0.03712167, ..., -0.        ,\n",
       "           0.00029704, -0.01341084],\n",
       "         [ 0.00520984, -0.00946988, -0.01668218, ...,  0.00029704,\n",
       "          -0.        ,  0.00651239],\n",
       "         [ 0.00274274, -0.01174847, -0.03292339, ..., -0.01341084,\n",
       "           0.00651239, -0.        ]],\n",
       "\n",
       "        ...,\n",
       "\n",
       "        [[-0.        , -0.00816394,  0.01170181, ..., -0.01105053,\n",
       "           0.00630722,  0.00059835],\n",
       "         [-0.00816394, -0.        ,  0.00534021, ...,  0.01353485,\n",
       "          -0.00969813, -0.00425421],\n",
       "         [ 0.01170181,  0.00534021, -0.        , ..., -0.02936729,\n",
       "          -0.01386565, -0.02865643],\n",
       "         ...,\n",
       "         [-0.01105053,  0.01353485, -0.02936729, ..., -0.        ,\n",
       "          -0.00126088, -0.00780877],\n",
       "         [ 0.00630722, -0.00969813, -0.01386565, ..., -0.00126088,\n",
       "          -0.        , -0.00381209],\n",
       "         [ 0.00059835, -0.00425421, -0.02865643, ..., -0.00780877,\n",
       "          -0.00381209, -0.        ]],\n",
       "\n",
       "        [[-0.        , -0.00451539,  0.01525857, ...,  0.00170077,\n",
       "           0.00145549,  0.01104118],\n",
       "         [-0.00451539, -0.        , -0.01572796, ..., -0.01214335,\n",
       "          -0.00755065, -0.00895335],\n",
       "         [ 0.01525857, -0.01572796, -0.        , ..., -0.02488129,\n",
       "          -0.00622037, -0.01761847],\n",
       "         ...,\n",
       "         [ 0.00170077, -0.01214335, -0.02488129, ..., -0.        ,\n",
       "           0.00504467,  0.00832533],\n",
       "         [ 0.00145549, -0.00755065, -0.00622037, ...,  0.00504467,\n",
       "          -0.        , -0.00692025],\n",
       "         [ 0.01104118, -0.00895335, -0.01761847, ...,  0.00832533,\n",
       "          -0.00692025, -0.        ]],\n",
       "\n",
       "        [[-0.        , -0.00582338,  0.00796684, ...,  0.01311552,\n",
       "          -0.01380866,  0.00897064],\n",
       "         [-0.00582338, -0.        ,  0.00126665, ...,  0.00100726,\n",
       "          -0.01375689,  0.00908082],\n",
       "         [ 0.00796684,  0.00126665, -0.        , ..., -0.00577364,\n",
       "          -0.01064229, -0.01656923],\n",
       "         ...,\n",
       "         [ 0.01311552,  0.00100726, -0.00577364, ..., -0.        ,\n",
       "          -0.00432872,  0.00983877],\n",
       "         [-0.01380866, -0.01375689, -0.01064229, ..., -0.00432872,\n",
       "          -0.        , -0.00303681],\n",
       "         [ 0.00897064,  0.00908082, -0.01656923, ...,  0.00983877,\n",
       "          -0.00303681, -0.        ]]]])"
      ]
     },
     "execution_count": 5,
     "metadata": {},
     "output_type": "execute_result"
    }
   ],
   "source": [
    "# Markov Networks\n",
    "\n",
    "from contextualized.easy import ContextualizedMarkovNetworks\n",
    "\n",
    "cmn = ContextualizedMarkovNetworks(encoder_type='ngam', num_archetypes=16, n_bootstraps=3)\n",
    "cmn.fit(C, X, max_epochs=5)\n",
    "\n",
    "# Get network\n",
    "cmn.predict_networks(C)\n",
    "\n",
    "# Get precision matrices\n",
    "cmn.predict_precisions(C)\n",
    "\n"
   ]
  },
  {
   "cell_type": "code",
   "execution_count": null,
   "id": "b8284a57",
   "metadata": {},
   "outputs": [],
   "source": []
  }
 ],
 "metadata": {
  "kernelspec": {
   "display_name": "Python 3 (ipykernel)",
   "language": "python",
   "name": "python3"
  },
  "language_info": {
   "codemirror_mode": {
    "name": "ipython",
    "version": 3
   },
   "file_extension": ".py",
   "mimetype": "text/x-python",
   "name": "python",
   "nbconvert_exporter": "python",
   "pygments_lexer": "ipython3",
   "version": "3.10.8"
  }
 },
 "nbformat": 4,
 "nbformat_minor": 5
}
