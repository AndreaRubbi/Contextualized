{
 "cells": [
  {
   "cell_type": "markdown",
   "id": "6e32bc2f",
   "metadata": {},
   "source": [
    "# Contextualized Correlation Networks"
   ]
  },
  {
   "cell_type": "markdown",
   "id": "70c3d247",
   "metadata": {},
   "source": [
    "Correlation networks summarize symmetric relationships between variable.\n",
    "We can make context-specific correlation networks with contextualized.ml ."
   ]
  },
  {
   "cell_type": "code",
   "execution_count": 1,
   "id": "5967fd61",
   "metadata": {},
   "outputs": [],
   "source": [
    "import numpy as np\n",
    "import matplotlib.pyplot as plt\n",
    "%matplotlib inline"
   ]
  },
  {
   "cell_type": "code",
   "execution_count": 2,
   "id": "76d3c5b5",
   "metadata": {},
   "outputs": [],
   "source": [
    "X = np.random.normal(0, 1, size=(1000, 10))\n",
    "C = np.random.uniform(-1, 1, size=(1000, 5))"
   ]
  },
  {
   "cell_type": "code",
   "execution_count": 6,
   "id": "c850dfc0",
   "metadata": {
    "scrolled": true
   },
   "outputs": [
    {
     "name": "stderr",
     "output_type": "stream",
     "text": [
      "GPU available: True (mps), used: False\n",
      "TPU available: False, using: 0 TPU cores\n",
      "IPU available: False, using: 0 IPUs\n",
      "HPU available: False, using: 0 HPUs\n",
      "\n",
      "  | Name      | Type             | Params\n",
      "-----------------------------------------------\n",
      "0 | metamodel | SubtypeMetamodel | 12.0 K\n",
      "-----------------------------------------------\n",
      "12.0 K    Trainable params\n",
      "0         Non-trainable params\n",
      "12.0 K    Total params\n",
      "0.048     Total estimated model params size (MB)\n"
     ]
    },
    {
     "name": "stdout",
     "output_type": "stream",
     "text": [
      "[<function SKLearnWrapper._organize_and_expand_kwargs.<locals>.<lambda> at 0x10423bd00>]\n"
     ]
    },
    {
     "data": {
      "application/vnd.jupyter.widget-view+json": {
       "model_id": "d1033ba65484443a95e3632410a7fe52",
       "version_major": 2,
       "version_minor": 0
      },
      "text/plain": [
       "Sanity Checking: 0it [00:00, ?it/s]"
      ]
     },
     "metadata": {},
     "output_type": "display_data"
    },
    {
     "data": {
      "application/vnd.jupyter.widget-view+json": {
       "model_id": "f675b2fcbbc543e2aed2fb3310ba2ff7",
       "version_major": 2,
       "version_minor": 0
      },
      "text/plain": [
       "Training: 0it [00:00, ?it/s]"
      ]
     },
     "metadata": {},
     "output_type": "display_data"
    },
    {
     "data": {
      "application/vnd.jupyter.widget-view+json": {
       "model_id": "cce4f89b832f4da197820331efb4e06b",
       "version_major": 2,
       "version_minor": 0
      },
      "text/plain": [
       "Validation: 0it [00:00, ?it/s]"
      ]
     },
     "metadata": {},
     "output_type": "display_data"
    },
    {
     "data": {
      "application/vnd.jupyter.widget-view+json": {
       "model_id": "4e7d39f9f1e149f0834b279d859b2ef7",
       "version_major": 2,
       "version_minor": 0
      },
      "text/plain": [
       "Validation: 0it [00:00, ?it/s]"
      ]
     },
     "metadata": {},
     "output_type": "display_data"
    },
    {
     "data": {
      "application/vnd.jupyter.widget-view+json": {
       "model_id": "3bfebf12c12f4cf299206545f7784b1b",
       "version_major": 2,
       "version_minor": 0
      },
      "text/plain": [
       "Validation: 0it [00:00, ?it/s]"
      ]
     },
     "metadata": {},
     "output_type": "display_data"
    },
    {
     "name": "stderr",
     "output_type": "stream",
     "text": [
      "GPU available: True (mps), used: False\n",
      "TPU available: False, using: 0 TPU cores\n",
      "IPU available: False, using: 0 IPUs\n",
      "HPU available: False, using: 0 HPUs\n",
      "\n",
      "  | Name      | Type             | Params\n",
      "-----------------------------------------------\n",
      "0 | metamodel | SubtypeMetamodel | 12.0 K\n",
      "-----------------------------------------------\n",
      "12.0 K    Trainable params\n",
      "0         Non-trainable params\n",
      "12.0 K    Total params\n",
      "0.048     Total estimated model params size (MB)\n"
     ]
    },
    {
     "data": {
      "application/vnd.jupyter.widget-view+json": {
       "model_id": "3e6618123de044ddbf77846c1671e51f",
       "version_major": 2,
       "version_minor": 0
      },
      "text/plain": [
       "Sanity Checking: 0it [00:00, ?it/s]"
      ]
     },
     "metadata": {},
     "output_type": "display_data"
    },
    {
     "data": {
      "application/vnd.jupyter.widget-view+json": {
       "model_id": "a06e2d95413446cd93a213b7d6eea010",
       "version_major": 2,
       "version_minor": 0
      },
      "text/plain": [
       "Training: 0it [00:00, ?it/s]"
      ]
     },
     "metadata": {},
     "output_type": "display_data"
    },
    {
     "data": {
      "application/vnd.jupyter.widget-view+json": {
       "model_id": "4d50edb628ac433892291029b437965c",
       "version_major": 2,
       "version_minor": 0
      },
      "text/plain": [
       "Validation: 0it [00:00, ?it/s]"
      ]
     },
     "metadata": {},
     "output_type": "display_data"
    },
    {
     "data": {
      "application/vnd.jupyter.widget-view+json": {
       "model_id": "05969b6a48d94d77ab8f0d3fe1957bb3",
       "version_major": 2,
       "version_minor": 0
      },
      "text/plain": [
       "Validation: 0it [00:00, ?it/s]"
      ]
     },
     "metadata": {},
     "output_type": "display_data"
    },
    {
     "data": {
      "application/vnd.jupyter.widget-view+json": {
       "model_id": "d0b8f0098d864ea282560f6256ac1798",
       "version_major": 2,
       "version_minor": 0
      },
      "text/plain": [
       "Validation: 0it [00:00, ?it/s]"
      ]
     },
     "metadata": {},
     "output_type": "display_data"
    },
    {
     "data": {
      "application/vnd.jupyter.widget-view+json": {
       "model_id": "9b54f4bb46074b248a03b01ff1244448",
       "version_major": 2,
       "version_minor": 0
      },
      "text/plain": [
       "Validation: 0it [00:00, ?it/s]"
      ]
     },
     "metadata": {},
     "output_type": "display_data"
    },
    {
     "data": {
      "application/vnd.jupyter.widget-view+json": {
       "model_id": "4931c453651247a48dba35bdb62c80af",
       "version_major": 2,
       "version_minor": 0
      },
      "text/plain": [
       "Validation: 0it [00:00, ?it/s]"
      ]
     },
     "metadata": {},
     "output_type": "display_data"
    },
    {
     "name": "stderr",
     "output_type": "stream",
     "text": [
      "`Trainer.fit` stopped: `max_epochs=5` reached.\n",
      "GPU available: True (mps), used: False\n",
      "TPU available: False, using: 0 TPU cores\n",
      "IPU available: False, using: 0 IPUs\n",
      "HPU available: False, using: 0 HPUs\n",
      "\n",
      "  | Name      | Type             | Params\n",
      "-----------------------------------------------\n",
      "0 | metamodel | SubtypeMetamodel | 12.0 K\n",
      "-----------------------------------------------\n",
      "12.0 K    Trainable params\n",
      "0         Non-trainable params\n",
      "12.0 K    Total params\n",
      "0.048     Total estimated model params size (MB)\n"
     ]
    },
    {
     "data": {
      "application/vnd.jupyter.widget-view+json": {
       "model_id": "d045f327e6344f7fa79633fc57c9bf5a",
       "version_major": 2,
       "version_minor": 0
      },
      "text/plain": [
       "Sanity Checking: 0it [00:00, ?it/s]"
      ]
     },
     "metadata": {},
     "output_type": "display_data"
    },
    {
     "data": {
      "application/vnd.jupyter.widget-view+json": {
       "model_id": "aa4cd38a685c45a0a54374315e817c1d",
       "version_major": 2,
       "version_minor": 0
      },
      "text/plain": [
       "Training: 0it [00:00, ?it/s]"
      ]
     },
     "metadata": {},
     "output_type": "display_data"
    },
    {
     "data": {
      "application/vnd.jupyter.widget-view+json": {
       "model_id": "fb07fbd5ad9448d3bb7a805495d66a6c",
       "version_major": 2,
       "version_minor": 0
      },
      "text/plain": [
       "Validation: 0it [00:00, ?it/s]"
      ]
     },
     "metadata": {},
     "output_type": "display_data"
    },
    {
     "data": {
      "application/vnd.jupyter.widget-view+json": {
       "model_id": "dfecc967b39d4d99be85520df0f1b2aa",
       "version_major": 2,
       "version_minor": 0
      },
      "text/plain": [
       "Validation: 0it [00:00, ?it/s]"
      ]
     },
     "metadata": {},
     "output_type": "display_data"
    },
    {
     "data": {
      "application/vnd.jupyter.widget-view+json": {
       "model_id": "f6db86bb63e04501b17bbeb19525f6dd",
       "version_major": 2,
       "version_minor": 0
      },
      "text/plain": [
       "Validation: 0it [00:00, ?it/s]"
      ]
     },
     "metadata": {},
     "output_type": "display_data"
    },
    {
     "data": {
      "application/vnd.jupyter.widget-view+json": {
       "model_id": "4e8b1ab375db439eb5835fbf46e1766b",
       "version_major": 2,
       "version_minor": 0
      },
      "text/plain": [
       "Validation: 0it [00:00, ?it/s]"
      ]
     },
     "metadata": {},
     "output_type": "display_data"
    },
    {
     "data": {
      "application/vnd.jupyter.widget-view+json": {
       "model_id": "a25048ddad2b43c88e5b18a2115f1417",
       "version_major": 2,
       "version_minor": 0
      },
      "text/plain": [
       "Validation: 0it [00:00, ?it/s]"
      ]
     },
     "metadata": {},
     "output_type": "display_data"
    },
    {
     "name": "stderr",
     "output_type": "stream",
     "text": [
      "`Trainer.fit` stopped: `max_epochs=5` reached.\n"
     ]
    },
    {
     "data": {
      "application/vnd.jupyter.widget-view+json": {
       "model_id": "a639c8bc9f6a402dbe591f2c0a80c1b3",
       "version_major": 2,
       "version_minor": 0
      },
      "text/plain": [
       "Predicting: 800it [00:00, ?it/s]"
      ]
     },
     "metadata": {},
     "output_type": "display_data"
    },
    {
     "data": {
      "application/vnd.jupyter.widget-view+json": {
       "model_id": "a79f74f256be439bbffcb1dac7362aed",
       "version_major": 2,
       "version_minor": 0
      },
      "text/plain": [
       "Predicting: 800it [00:00, ?it/s]"
      ]
     },
     "metadata": {},
     "output_type": "display_data"
    },
    {
     "data": {
      "application/vnd.jupyter.widget-view+json": {
       "model_id": "79aea97f74cb416ba1f34985f6568e2a",
       "version_major": 2,
       "version_minor": 0
      },
      "text/plain": [
       "Predicting: 800it [00:00, ?it/s]"
      ]
     },
     "metadata": {},
     "output_type": "display_data"
    },
    {
     "data": {
      "application/vnd.jupyter.widget-view+json": {
       "model_id": "ee81b06188de45c3a1ccfe982c1ee7d5",
       "version_major": 2,
       "version_minor": 0
      },
      "text/plain": [
       "Predicting: 800it [00:00, ?it/s]"
      ]
     },
     "metadata": {},
     "output_type": "display_data"
    },
    {
     "data": {
      "application/vnd.jupyter.widget-view+json": {
       "model_id": "5f04a668e78348e9981a7ce12a278b06",
       "version_major": 2,
       "version_minor": 0
      },
      "text/plain": [
       "Predicting: 800it [00:00, ?it/s]"
      ]
     },
     "metadata": {},
     "output_type": "display_data"
    },
    {
     "data": {
      "application/vnd.jupyter.widget-view+json": {
       "model_id": "cf7cfe76dc294f60ba5e0febaa47cf1b",
       "version_major": 2,
       "version_minor": 0
      },
      "text/plain": [
       "Predicting: 800it [00:00, ?it/s]"
      ]
     },
     "metadata": {},
     "output_type": "display_data"
    },
    {
     "name": "stdout",
     "output_type": "stream",
     "text": [
      "(1000, 10, 10)\n"
     ]
    }
   ],
   "source": [
    "from contextualized.easy import ContextualizedCorrelationNetworks\n",
    "\n",
    "ccn = ContextualizedCorrelationNetworks(encoder_type='ngam', num_archetypes=16, n_bootstraps=3)\n",
    "ccn.fit(C, X, max_epochs=5)\n",
    "\n",
    "# Get rho\n",
    "rho = ccn.predict_correlation(C, individual_preds=False, squared=False)\n",
    "\n",
    "# Get rho^2\n",
    "rho_squared = ccn.predict_correlation(C, individual_preds=False, squared=True)\n",
    "print(rho_squared.shape)"
   ]
  },
  {
   "cell_type": "code",
   "execution_count": 8,
   "id": "d2a5b8c2",
   "metadata": {},
   "outputs": [
    {
     "data": {
      "application/vnd.jupyter.widget-view+json": {
       "model_id": "71383bc4183341eeac9a4864f42e7778",
       "version_major": 2,
       "version_minor": 0
      },
      "text/plain": [
       "Predicting: 800it [00:00, ?it/s]"
      ]
     },
     "metadata": {},
     "output_type": "display_data"
    },
    {
     "data": {
      "application/vnd.jupyter.widget-view+json": {
       "model_id": "14450301eadf404a9685ca58e89971e7",
       "version_major": 2,
       "version_minor": 0
      },
      "text/plain": [
       "Predicting: 800it [00:00, ?it/s]"
      ]
     },
     "metadata": {},
     "output_type": "display_data"
    },
    {
     "data": {
      "application/vnd.jupyter.widget-view+json": {
       "model_id": "2055ade0b5e840ed8373207209f9d199",
       "version_major": 2,
       "version_minor": 0
      },
      "text/plain": [
       "Predicting: 800it [00:00, ?it/s]"
      ]
     },
     "metadata": {},
     "output_type": "display_data"
    },
    {
     "name": "stdout",
     "output_type": "stream",
     "text": [
      "(3, 1000, 10, 10)\n"
     ]
    }
   ],
   "source": [
    "# To calculate confidence intervals, we can request individual predictions from the bootstrap models.\n",
    "rho_squared = ccn.predict_correlation(C, individual_preds=True, squared=True)\n",
    "# This prepends an axis to the output predictions.\n",
    "print(rho_squared.shape)"
   ]
  },
  {
   "cell_type": "code",
   "execution_count": null,
   "id": "1e1f953c",
   "metadata": {},
   "outputs": [],
   "source": []
  }
 ],
 "metadata": {
  "kernelspec": {
   "display_name": "Python 3 (ipykernel)",
   "language": "python",
   "name": "python3"
  },
  "language_info": {
   "codemirror_mode": {
    "name": "ipython",
    "version": 3
   },
   "file_extension": ".py",
   "mimetype": "text/x-python",
   "name": "python",
   "nbconvert_exporter": "python",
   "pygments_lexer": "ipython3",
   "version": "3.10.8"
  }
 },
 "nbformat": 4,
 "nbformat_minor": 5
}
