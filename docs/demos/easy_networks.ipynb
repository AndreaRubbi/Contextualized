{
 "cells": [
  {
   "cell_type": "markdown",
   "id": "6e32bc2f",
   "metadata": {},
   "source": [
    "# Contextualized Networks"
   ]
  },
  {
   "cell_type": "code",
   "execution_count": 1,
   "id": "5967fd61",
   "metadata": {},
   "outputs": [],
   "source": [
    "import numpy as np\n",
    "import matplotlib.pyplot as plt\n",
    "%matplotlib inline"
   ]
  },
  {
   "cell_type": "code",
   "execution_count": 2,
   "id": "76d3c5b5",
   "metadata": {},
   "outputs": [],
   "source": [
    "X = np.random.normal(0, 1, size=(1000, 10))\n",
    "C = np.random.uniform(-1, 1, size=(1000, 5))"
   ]
  },
  {
   "cell_type": "markdown",
   "id": "824da238",
   "metadata": {},
   "source": [
    "## Correlation Networks"
   ]
  },
  {
   "cell_type": "code",
   "execution_count": 3,
   "id": "c850dfc0",
   "metadata": {},
   "outputs": [],
   "source": [
    "%%capture\n",
    "from contextualized.easy import ContextualizedCorrelationNetworks\n",
    "ccn = ContextualizedCorrelationNetworks(encoder_type='ngam', num_archetypes=16, n_bootstraps=3)\n",
    "ccn.fit(C, X, max_epochs=5)\n",
    "\n",
    "# Get rho\n",
    "ccn.predict_correlation(C, squared=False)\n",
    "\n",
    "# Get rho^2\n",
    "ccn.predict_correlation(C, squared=True)"
   ]
  },
  {
   "cell_type": "markdown",
   "id": "efed3b1c",
   "metadata": {},
   "source": [
    "## Markov Networks"
   ]
  },
  {
   "cell_type": "code",
   "execution_count": 4,
   "id": "515bf779",
   "metadata": {},
   "outputs": [],
   "source": [
    "%%capture\n",
    "from contextualized.easy import ContextualizedMarkovNetworks\n",
    "cmn = ContextualizedMarkovNetworks(encoder_type='ngam', num_archetypes=16, n_bootstraps=3)\n",
    "cmn.fit(C, X, max_epochs=5)\n",
    "\n",
    "# Get network\n",
    "cmn.predict_networks(C)\n",
    "\n",
    "# Get precision matrices\n",
    "cmn.predict_precisions(C).shape"
   ]
  },
  {
   "cell_type": "markdown",
   "id": "a9b15056",
   "metadata": {},
   "source": [
    "## Bayesian Networks\n",
    "For more details, see the [NOTMAD preprint](https://arxiv.org/abs/2111.01104)."
   ]
  },
  {
   "cell_type": "code",
   "execution_count": 5,
   "id": "b8284a57",
   "metadata": {},
   "outputs": [],
   "source": [
    "%%capture\n",
    "# Bayesian Networks\n",
    "from contextualized.easy import ContextualizedBayesianNetworks\n",
    "cbn = ContextualizedBayesianNetworks(encoder_type='ngam', num_archetypes=16, n_bootstraps=3)\n",
    "cbn.fit(C, X, max_epochs=5)\n",
    "\n",
    "# Get network\n",
    "cbn.predict_networks(C)\n",
    "\n",
    "# Measure error of observed data.\n",
    "cbn.measure_mses(C, X)"
   ]
  },
  {
   "cell_type": "code",
   "execution_count": null,
   "id": "d2a5b8c2",
   "metadata": {},
   "outputs": [],
   "source": []
  }
 ],
 "metadata": {
  "kernelspec": {
   "display_name": "Python 3 (ipykernel)",
   "language": "python",
   "name": "python3"
  },
  "language_info": {
   "codemirror_mode": {
    "name": "ipython",
    "version": 3
   },
   "file_extension": ".py",
   "mimetype": "text/x-python",
   "name": "python",
   "nbconvert_exporter": "python",
   "pygments_lexer": "ipython3",
   "version": "3.10.9"
  }
 },
 "nbformat": 4,
 "nbformat_minor": 5
}
