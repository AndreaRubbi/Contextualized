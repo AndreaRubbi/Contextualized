{
 "cells": [
  {
   "cell_type": "markdown",
   "id": "6e32bc2f",
   "metadata": {},
   "source": [
    "# Contextualized Bayesian Networks"
   ]
  },
  {
   "cell_type": "markdown",
   "id": "30c7901a",
   "metadata": {},
   "source": [
    "For more details, please see the [NOTMAD preprint](https://arxiv.org/abs/2111.01104)."
   ]
  },
  {
   "cell_type": "code",
   "execution_count": 1,
   "id": "5967fd61",
   "metadata": {},
   "outputs": [],
   "source": [
    "import numpy as np\n",
    "import matplotlib.pyplot as plt\n",
    "%matplotlib inline"
   ]
  },
  {
   "cell_type": "code",
   "execution_count": 2,
   "id": "76d3c5b5",
   "metadata": {},
   "outputs": [],
   "source": [
    "from contextualized.dags.graph_utils import simulate_linear_sem\n",
    "\n",
    "n = 1000\n",
    "C = np.linspace(1, 2, n).reshape((n, 1))\n",
    "W = np.zeros((4, 4, n, 1))\n",
    "W[0, 1] = C - 2\n",
    "W[2, 1] = C**2\n",
    "W[3, 1] = C**3\n",
    "W[3, 2] = C\n",
    "W = np.squeeze(W)\n",
    "W = np.transpose(W, (2, 0, 1))\n",
    "X = np.zeros((n, 4))\n",
    "for i, w in enumerate(W):\n",
    "    x = simulate_linear_sem(w, 1, \"uniform\", noise_scale=0.1)[0]\n",
    "    X[i] = x"
   ]
  },
  {
   "cell_type": "code",
   "execution_count": 3,
   "id": "29e8d227",
   "metadata": {
    "scrolled": true
   },
   "outputs": [
    {
     "ename": "KeyError",
     "evalue": "'type'",
     "output_type": "error",
     "traceback": [
      "\u001b[0;31m---------------------------------------------------------------------------\u001b[0m",
      "\u001b[0;31mKeyError\u001b[0m                                  Traceback (most recent call last)",
      "Cell \u001b[0;32mIn [3], line 3\u001b[0m\n\u001b[1;32m      1\u001b[0m \u001b[38;5;28;01mfrom\u001b[39;00m \u001b[38;5;21;01mcontextualized\u001b[39;00m\u001b[38;5;21;01m.\u001b[39;00m\u001b[38;5;21;01measy\u001b[39;00m \u001b[38;5;28;01mimport\u001b[39;00m ContextualizedBayesianNetworks\n\u001b[0;32m----> 3\u001b[0m cbn \u001b[38;5;241m=\u001b[39m \u001b[43mContextualizedBayesianNetworks\u001b[49m\u001b[43m(\u001b[49m\u001b[43mencoder_type\u001b[49m\u001b[38;5;241;43m=\u001b[39;49m\u001b[38;5;124;43m'\u001b[39;49m\u001b[38;5;124;43mmlp\u001b[39;49m\u001b[38;5;124;43m'\u001b[39;49m\u001b[43m,\u001b[49m\u001b[43m \u001b[49m\u001b[43mnum_archetypes\u001b[49m\u001b[38;5;241;43m=\u001b[39;49m\u001b[38;5;241;43m16\u001b[39;49m\u001b[43m,\u001b[49m\n\u001b[1;32m      4\u001b[0m \u001b[43m                                     \u001b[49m\u001b[43mn_bootstraps\u001b[49m\u001b[38;5;241;43m=\u001b[39;49m\u001b[38;5;241;43m2\u001b[39;49m\u001b[43m,\u001b[49m\u001b[43m \u001b[49m\u001b[43marchetype_dag_loss_type\u001b[49m\u001b[38;5;241;43m=\u001b[39;49m\u001b[38;5;124;43m\"\u001b[39;49m\u001b[38;5;124;43mDAGMA\u001b[39;49m\u001b[38;5;124;43m\"\u001b[39;49m\u001b[43m,\u001b[49m\u001b[43m \u001b[49m\u001b[43marchetype_alpha\u001b[49m\u001b[38;5;241;43m=\u001b[39;49m\u001b[38;5;241;43m0.\u001b[39;49m\u001b[43m,\u001b[49m\n\u001b[1;32m      5\u001b[0m \u001b[43m                                    \u001b[49m\u001b[43msample_specific_dag_loss_type\u001b[49m\u001b[38;5;241;43m=\u001b[39;49m\u001b[38;5;124;43m\"\u001b[39;49m\u001b[38;5;124;43mDAGMA\u001b[39;49m\u001b[38;5;124;43m\"\u001b[39;49m\u001b[43m,\u001b[49m\u001b[43m \u001b[49m\u001b[43msample_specific_alpha\u001b[49m\u001b[38;5;241;43m=\u001b[39;49m\u001b[38;5;241;43m1e-1\u001b[39;49m\u001b[43m,\u001b[49m\n\u001b[1;32m      6\u001b[0m \u001b[43m                                    \u001b[49m\u001b[43mlearning_rate\u001b[49m\u001b[38;5;241;43m=\u001b[39;49m\u001b[38;5;241;43m1e-3\u001b[39;49m\u001b[43m)\u001b[49m\n\u001b[1;32m      7\u001b[0m cbn\u001b[38;5;241m.\u001b[39mfit(C, X, max_epochs\u001b[38;5;241m=\u001b[39m\u001b[38;5;241m10\u001b[39m)\n",
      "File \u001b[0;32m~/Dropbox/Professional/Research/Libraries/Contextualized/contextualized/easy/ContextualizedNetworks.py:169\u001b[0m, in \u001b[0;36mContextualizedBayesianNetworks.__init__\u001b[0;34m(self, **kwargs)\u001b[0m\n\u001b[1;32m    149\u001b[0m \u001b[38;5;28;01mdef\u001b[39;00m \u001b[38;5;21m__init__\u001b[39m(\u001b[38;5;28mself\u001b[39m, \u001b[38;5;241m*\u001b[39m\u001b[38;5;241m*\u001b[39mkwargs):\n\u001b[1;32m    150\u001b[0m     \u001b[38;5;28msuper\u001b[39m()\u001b[38;5;241m.\u001b[39m\u001b[38;5;21m__init__\u001b[39m(\n\u001b[1;32m    151\u001b[0m         NOTMAD,\n\u001b[1;32m    152\u001b[0m         extra_model_kwargs\u001b[38;5;241m=\u001b[39m[\n\u001b[0;32m   (...)\u001b[0m\n\u001b[1;32m    165\u001b[0m         \u001b[38;5;241m*\u001b[39m\u001b[38;5;241m*\u001b[39mkwargs,\n\u001b[1;32m    166\u001b[0m     )\n\u001b[1;32m    167\u001b[0m     \u001b[38;5;28mself\u001b[39m\u001b[38;5;241m.\u001b[39m_init_kwargs[\u001b[38;5;124m\"\u001b[39m\u001b[38;5;124mmodel\u001b[39m\u001b[38;5;124m\"\u001b[39m][\u001b[38;5;124m\"\u001b[39m\u001b[38;5;124mencoder_kwargs\u001b[39m\u001b[38;5;124m\"\u001b[39m] \u001b[38;5;241m=\u001b[39m {\n\u001b[1;32m    168\u001b[0m         \u001b[38;5;124m\"\u001b[39m\u001b[38;5;124mtype\u001b[39m\u001b[38;5;124m\"\u001b[39m: kwargs\u001b[38;5;241m.\u001b[39mget(\n\u001b[0;32m--> 169\u001b[0m             \u001b[38;5;124m\"\u001b[39m\u001b[38;5;124mencoder_type\u001b[39m\u001b[38;5;124m\"\u001b[39m, \u001b[38;5;28;43mself\u001b[39;49m\u001b[38;5;241;43m.\u001b[39;49m\u001b[43mconstructor_kwargs\u001b[49m\u001b[43m[\u001b[49m\u001b[38;5;124;43m\"\u001b[39;49m\u001b[38;5;124;43mencoder_kwargs\u001b[39;49m\u001b[38;5;124;43m\"\u001b[39;49m\u001b[43m]\u001b[49m\u001b[43m[\u001b[49m\u001b[38;5;124;43m\"\u001b[39;49m\u001b[38;5;124;43mtype\u001b[39;49m\u001b[38;5;124;43m\"\u001b[39;49m\u001b[43m]\u001b[49m\n\u001b[1;32m    170\u001b[0m         ),\n\u001b[1;32m    171\u001b[0m         \u001b[38;5;124m\"\u001b[39m\u001b[38;5;124mparams\u001b[39m\u001b[38;5;124m\"\u001b[39m: {\n\u001b[1;32m    172\u001b[0m             \u001b[38;5;124m\"\u001b[39m\u001b[38;5;124mwidth\u001b[39m\u001b[38;5;124m\"\u001b[39m: \u001b[38;5;28mself\u001b[39m\u001b[38;5;241m.\u001b[39mconstructor_kwargs[\u001b[38;5;124m\"\u001b[39m\u001b[38;5;124mencoder_kwargs\u001b[39m\u001b[38;5;124m\"\u001b[39m][\u001b[38;5;124m\"\u001b[39m\u001b[38;5;124mwidth\u001b[39m\u001b[38;5;124m\"\u001b[39m],\n\u001b[1;32m    173\u001b[0m             \u001b[38;5;124m\"\u001b[39m\u001b[38;5;124mlayers\u001b[39m\u001b[38;5;124m\"\u001b[39m: \u001b[38;5;28mself\u001b[39m\u001b[38;5;241m.\u001b[39mconstructor_kwargs[\u001b[38;5;124m\"\u001b[39m\u001b[38;5;124mencoder_kwargs\u001b[39m\u001b[38;5;124m\"\u001b[39m][\u001b[38;5;124m\"\u001b[39m\u001b[38;5;124mlayers\u001b[39m\u001b[38;5;124m\"\u001b[39m],\n\u001b[1;32m    174\u001b[0m             \u001b[38;5;124m\"\u001b[39m\u001b[38;5;124mlink_fn\u001b[39m\u001b[38;5;124m\"\u001b[39m: \u001b[38;5;28mself\u001b[39m\u001b[38;5;241m.\u001b[39mconstructor_kwargs[\u001b[38;5;124m\"\u001b[39m\u001b[38;5;124mencoder_kwargs\u001b[39m\u001b[38;5;124m\"\u001b[39m][\u001b[38;5;124m\"\u001b[39m\u001b[38;5;124mlink_fn\u001b[39m\u001b[38;5;124m\"\u001b[39m],\n\u001b[1;32m    175\u001b[0m         },\n\u001b[1;32m    176\u001b[0m     }\n\u001b[1;32m    177\u001b[0m     archetype_dag_loss_type \u001b[38;5;241m=\u001b[39m kwargs\u001b[38;5;241m.\u001b[39mget(\u001b[38;5;124m\"\u001b[39m\u001b[38;5;124marchetype_dag_loss_type\u001b[39m\u001b[38;5;124m\"\u001b[39m, \u001b[38;5;124m\"\u001b[39m\u001b[38;5;124mNOTEARS\u001b[39m\u001b[38;5;124m\"\u001b[39m)\n\u001b[1;32m    178\u001b[0m     \u001b[38;5;28mself\u001b[39m\u001b[38;5;241m.\u001b[39m_init_kwargs[\u001b[38;5;124m\"\u001b[39m\u001b[38;5;124mmodel\u001b[39m\u001b[38;5;124m\"\u001b[39m][\u001b[38;5;124m\"\u001b[39m\u001b[38;5;124marchetype_params\u001b[39m\u001b[38;5;124m\"\u001b[39m] \u001b[38;5;241m=\u001b[39m {\n\u001b[1;32m    179\u001b[0m         \u001b[38;5;124m\"\u001b[39m\u001b[38;5;124ml1\u001b[39m\u001b[38;5;124m\"\u001b[39m: kwargs\u001b[38;5;241m.\u001b[39mget(\u001b[38;5;124m\"\u001b[39m\u001b[38;5;124marchetype_l1\u001b[39m\u001b[38;5;124m\"\u001b[39m, \u001b[38;5;241m0.0\u001b[39m),\n\u001b[1;32m    180\u001b[0m         \u001b[38;5;124m\"\u001b[39m\u001b[38;5;124mdag\u001b[39m\u001b[38;5;124m\"\u001b[39m: kwargs\u001b[38;5;241m.\u001b[39mget(\n\u001b[0;32m   (...)\u001b[0m\n\u001b[1;32m    193\u001b[0m         \u001b[38;5;124m\"\u001b[39m\u001b[38;5;124mnum_archetypes\u001b[39m\u001b[38;5;124m\"\u001b[39m: kwargs\u001b[38;5;241m.\u001b[39mget(\u001b[38;5;124m\"\u001b[39m\u001b[38;5;124mnum_archetypes\u001b[39m\u001b[38;5;124m\"\u001b[39m, \u001b[38;5;241m0\u001b[39m),\n\u001b[1;32m    194\u001b[0m     }\n",
      "\u001b[0;31mKeyError\u001b[0m: 'type'"
     ]
    }
   ],
   "source": [
    "%%capture\n",
    "from contextualized.easy import ContextualizedBayesianNetworks\n",
    "\n",
    "cbn = ContextualizedBayesianNetworks(encoder_type='mlp', num_archetypes=16,\n",
    "                                     n_bootstraps=2, archetype_dag_loss_type=\"DAGMA\", archetype_alpha=0.,\n",
    "                                    sample_specific_dag_loss_type=\"DAGMA\", sample_specific_alpha=1e-1,\n",
    "                                    learning_rate=1e-3)\n",
    "cbn.fit(C, X, max_epochs=10)"
   ]
  },
  {
   "cell_type": "code",
   "execution_count": 4,
   "id": "b8284a57",
   "metadata": {},
   "outputs": [
    {
     "ename": "NameError",
     "evalue": "name 'cbn' is not defined",
     "output_type": "error",
     "traceback": [
      "\u001b[0;31m---------------------------------------------------------------------------\u001b[0m",
      "\u001b[0;31mNameError\u001b[0m                                 Traceback (most recent call last)",
      "Cell \u001b[0;32mIn [4], line 2\u001b[0m\n\u001b[1;32m      1\u001b[0m \u001b[38;5;66;03m# We can measure Mean-Squared Error to measure likelihood of X under predicted networks.\u001b[39;00m\n\u001b[0;32m----> 2\u001b[0m mses \u001b[38;5;241m=\u001b[39m \u001b[43mcbn\u001b[49m\u001b[38;5;241m.\u001b[39mmeasure_mses(C, X)\n",
      "\u001b[0;31mNameError\u001b[0m: name 'cbn' is not defined"
     ]
    }
   ],
   "source": [
    "# We can measure Mean-Squared Error to measure likelihood of X under predicted networks.\n",
    "mses = cbn.measure_mses(C, X)"
   ]
  },
  {
   "cell_type": "code",
   "execution_count": null,
   "id": "d2a5b8c2",
   "metadata": {},
   "outputs": [],
   "source": [
    "# Predict and visualize network\n",
    "predicted_networks = cbn.predict_networks(C)\n",
    "\n",
    "f, axarr = plt.subplots(1, 2)\n",
    "axarr[0].imshow(predicted_networks[0])\n",
    "axarr[1].imshow(W[0])\n",
    "axarr[0].set_title(\"Predicted Network\")\n",
    "axarr[1].set_title(\"Ground-Truth Network\")"
   ]
  },
  {
   "cell_type": "code",
   "execution_count": null,
   "id": "a5be33f4",
   "metadata": {},
   "outputs": [],
   "source": [
    "# We can embed networks in lower-dimensional spaces to visualize distributions.\n",
    "from contextualized.analysis.embeddings import plot_embedding_for_all_covars\n",
    "import umap\n",
    "import pandas as pd\n",
    "low_dim_networks = umap.UMAP().fit_transform(predicted_networks.reshape((n, -1)))\n",
    "plot_embedding_for_all_covars(low_dim_networks[:, :2], pd.DataFrame(C, columns=['C']),\n",
    "                             xlabel=\"Network UMAP 1\", ylabel=\"Network UMAP 2\")\n",
    "# In this case, there is only 1 context variable so the embeddings are not very interesting."
   ]
  },
  {
   "cell_type": "markdown",
   "id": "4723a3c0",
   "metadata": {},
   "source": [
    "# DAG Loss Regularizers\n",
    "Contextualized Bayesian Networks are available with two types of DAG losses:\n",
    "\n",
    "- [NOTEARS](https://arxiv.org/abs/1803.01422)\n",
    "- [DAGMA](https://arxiv.org/pdf/2209.08037)\n",
    "    \n",
    "These can be chosen for the archetypes and the sample-specific graphs independently by using the `dag.loss_type` parameter:\n",
    "\n",
    "`archetype_dag_loss_type=\"NOTMAD\"` or `archetype_dag_loss_type=\"DAGMA\"`\n",
    "\n",
    "and similarly\n",
    "\n",
    "`sample_specific_dag_loss_type=\"NOTMAD\"` or `sample_specific_dag_loss_type=\"DAGMA\"`.\n",
    "\n",
    "NOTEARS has parameters:\n",
    "- `alpha` (float)\n",
    "- `rho` (float)\n",
    "- `use_dynamic_alpha_rho` (Boolean)\n",
    "\n",
    "\n",
    "DAGMA has parameters:\n",
    "- `alpha` (strength, default 1e0)\n",
    "- `s` (max spectral radius, default 1)"
   ]
  },
  {
   "cell_type": "markdown",
   "id": "3850b632",
   "metadata": {},
   "source": [
    "# Factor Graphs\n",
    "To improve scalability, we can include factor graphs (low-dimensional axes of network variation).\n",
    "This is controlled by the `num_factors` parameter. The default value of 0 turns off factor graphs and computes the network in full dimensionality."
   ]
  },
  {
   "cell_type": "code",
   "execution_count": null,
   "id": "2c3c68b5",
   "metadata": {},
   "outputs": [],
   "source": []
  }
 ],
 "metadata": {
  "kernelspec": {
   "display_name": "Python 3 (ipykernel)",
   "language": "python",
   "name": "python3"
  },
  "language_info": {
   "codemirror_mode": {
    "name": "ipython",
    "version": 3
   },
   "file_extension": ".py",
   "mimetype": "text/x-python",
   "name": "python",
   "nbconvert_exporter": "python",
   "pygments_lexer": "ipython3",
   "version": "3.10.9"
  }
 },
 "nbformat": 4,
 "nbformat_minor": 5
}
