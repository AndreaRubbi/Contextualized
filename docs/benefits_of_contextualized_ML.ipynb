{
 "cells": [
  {
   "cell_type": "markdown",
   "metadata": {},
   "source": [
    "# Benefits of Contextualized ML"
   ]
  },
  {
   "cell_type": "markdown",
   "metadata": {},
   "source": [
    "## Contextualized ML Enables High-Resolution Heterogeneity \n",
    "By sharing information between all contexts, contextualized learning is able to estimate heterogeneity at fine-grained resolution.\n",
    "Cluster or cohort-based models treat every partition independently, limiting heterogeneity to\n",
    "coarse-grained resolution where there are large enough cohorts for independent estimation."
   ]
  },
  {
   "cell_type": "markdown",
   "metadata": {},
   "source": [
    "### Problem Definition \n",
    "In this examples we are interested in learning Bayesian Networks (BNs) which are context-specific; i.e., theparameters and/or structure of the BNs may vary according to context. In this problem,for each observation $X∈R^p$, we also observe contextual data $C∈R^m$. \n",
    "We can describe this as factorizing $P(X, C) = \\int_W{dW P(X|W)P(W|C)P(C)}$; where $P(X|W)=BN(X|W)$ is the distribution implied by BN structure W.\n",
    "As a practical biological application, we can view X as gene expression, W as a gene regulatory network, and C as patient covariates which contextualize the network."
   ]
  },
  {
   "cell_type": "code",
   "execution_count": 94,
   "metadata": {},
   "outputs": [],
   "source": [
    "# We need a few libraries\n",
    "import numpy as np # for linear algebra operations\n",
    "import pandas as pd # for data manipulation \n",
    "import networkx as nx # for drawing graphs\n",
    "import matplotlib.pyplot as plt # for drawing graphs\n",
    "from sklearn.preprocessing import MinMaxScaler\n",
    "from rich import print # style \n",
    "%matplotlib inline\n",
    "import warnings\n",
    "warnings.filterwarnings(\"ignore\")"
   ]
  },
  {
   "cell_type": "markdown",
   "metadata": {},
   "source": [
    "We then import the contextualized library, define $n$ simulated samples with context $C$. Gene expression $X$ depends on the BN defined by $W$, and is simulated using the helper function <i>simulate_linear_sem</i>, which simulates samples from linear structural equation modeling. "
   ]
  },
  {
   "cell_type": "code",
   "execution_count": 102,
   "metadata": {},
   "outputs": [
    {
     "data": {
      "text/html": [
       "<pre style=\"white-space:pre;overflow-x:auto;line-height:normal;font-family:Menlo,'DejaVu Sans Mono',consolas,'Courier New',monospace\"><span style=\"font-weight: bold\">(</span><span style=\"color: #008080; text-decoration-color: #008080; font-weight: bold\">10000</span>, <span style=\"color: #008080; text-decoration-color: #008080; font-weight: bold\">1</span><span style=\"font-weight: bold\">)</span>\n",
       "<span style=\"font-weight: bold\">(</span><span style=\"color: #008080; text-decoration-color: #008080; font-weight: bold\">10000</span>, <span style=\"color: #008080; text-decoration-color: #008080; font-weight: bold\">4</span>, <span style=\"color: #008080; text-decoration-color: #008080; font-weight: bold\">4</span><span style=\"font-weight: bold\">)</span>\n",
       "<span style=\"font-weight: bold\">(</span><span style=\"color: #008080; text-decoration-color: #008080; font-weight: bold\">10000</span>, <span style=\"color: #008080; text-decoration-color: #008080; font-weight: bold\">4</span><span style=\"font-weight: bold\">)</span>\n",
       "</pre>\n"
      ],
      "text/plain": [
       "\u001b[1m(\u001b[0m\u001b[1;36m10000\u001b[0m, \u001b[1;36m1\u001b[0m\u001b[1m)\u001b[0m\n",
       "\u001b[1m(\u001b[0m\u001b[1;36m10000\u001b[0m, \u001b[1;36m4\u001b[0m, \u001b[1;36m4\u001b[0m\u001b[1m)\u001b[0m\n",
       "\u001b[1m(\u001b[0m\u001b[1;36m10000\u001b[0m, \u001b[1;36m4\u001b[0m\u001b[1m)\u001b[0m\n"
      ]
     },
     "metadata": {},
     "output_type": "display_data"
    }
   ],
   "source": [
    "#from contextualized import dev_dags\n",
    "import sys\n",
    "sys.path.insert(0, 'C:/Users/andre/OneDrive/Desktop/Nebula/Contextualized/')\n",
    "import contextualized\n",
    "\n",
    "simulate_linear_sem = contextualized.dags.graph_utils.simulate_linear_sem \n",
    "\n",
    "# number of samples\n",
    "n = 10000\n",
    "# C is the context\n",
    "C = np.random.choice([1,2,3], size=(n, 1))\n",
    "# W is the adjacency matrix that defines the BN\n",
    "W = np.zeros((4, 4, n, 1)) # 4 genes and n adjacency matrices\n",
    "W[0, 1] = C - 2\n",
    "W[2, 1] = C**2\n",
    "W[3, 1] = C**3\n",
    "W[3, 2] = C\n",
    "W = np.squeeze(W)\n",
    "W = np.transpose(W, (2, 0, 1))\n",
    "# X is the gene expression\n",
    "X = np.zeros((n, 4))\n",
    "for i, w in enumerate(W):\n",
    "    x = simulate_linear_sem(w, 1, \"uniform\", noise_scale=0.1)[0]\n",
    "    X[i] = x\n",
    "\n",
    "print(C.shape, W.shape, X.shape)"
   ]
  },
  {
   "cell_type": "code",
   "execution_count": 103,
   "metadata": {},
   "outputs": [
    {
     "name": "stderr",
     "output_type": "stream",
     "text": [
      "GPU available: False, used: False\n",
      "TPU available: False, using: 0 TPU cores\n",
      "IPU available: False, using: 0 IPUs\n",
      "HPU available: False, using: 0 HPUs\n",
      "\n",
      "  | Name      | Type             | Params\n",
      "-----------------------------------------------\n",
      "0 | metamodel | SubtypeMetamodel | 2.1 K \n",
      "-----------------------------------------------\n",
      "2.1 K     Trainable params\n",
      "0         Non-trainable params\n",
      "2.1 K     Total params\n",
      "0.008     Total estimated model params size (MB)\n"
     ]
    },
    {
     "name": "stderr",
     "output_type": "stream",
     "text": [
      "GPU available: False, used: False\n",
      "TPU available: False, using: 0 TPU cores\n",
      "IPU available: False, using: 0 IPUs\n",
      "HPU available: False, using: 0 HPUs\n",
      "\n",
      "  | Name      | Type             | Params\n",
      "-----------------------------------------------\n",
      "0 | metamodel | SubtypeMetamodel | 2.1 K \n",
      "-----------------------------------------------\n",
      "2.1 K     Trainable params\n",
      "0         Non-trainable params\n",
      "2.1 K     Total params\n",
      "0.008     Total estimated model params size (MB)\n",
      "`Trainer.fit` stopped: `max_epochs=5` reached.\n",
      "GPU available: False, used: False\n",
      "TPU available: False, using: 0 TPU cores\n",
      "IPU available: False, using: 0 IPUs\n",
      "HPU available: False, using: 0 HPUs\n",
      "\n",
      "  | Name      | Type             | Params\n",
      "-----------------------------------------------\n",
      "0 | metamodel | SubtypeMetamodel | 2.1 K \n",
      "-----------------------------------------------\n",
      "2.1 K     Trainable params\n",
      "0         Non-trainable params\n",
      "2.1 K     Total params\n",
      "0.008     Total estimated model params size (MB)\n",
      "`Trainer.fit` stopped: `max_epochs=5` reached.\n"
     ]
    }
   ],
   "source": [
    "from contextualized.easy import ContextualizedMarkovNetworks\n",
    "\n",
    "cmn = ContextualizedMarkovNetworks(encoder_type='ngam', num_archetypes=16, n_bootstraps=3)\n",
    "cmn.fit(C, X, max_epochs=5)\n",
    "\n",
    "# Get networks\n",
    "networks = cmn.predict_networks(C)\n",
    "\n",
    "# Get precision matrices\n",
    "precision_mats = cmn.predict_precisions(C)"
   ]
  },
  {
   "cell_type": "code",
   "execution_count": 104,
   "metadata": {},
   "outputs": [
    {
     "name": "stderr",
     "output_type": "stream",
     "text": [
      "GPU available: False, used: False\n",
      "TPU available: False, using: 0 TPU cores\n",
      "IPU available: False, using: 0 IPUs\n",
      "HPU available: False, using: 0 HPUs\n",
      "\n",
      "  | Name      | Type      | Params\n",
      "----------------------------------------\n",
      "0 | encoder   | MLP       | 1.8 K \n",
      "1 | explainer | Explainer | 256   \n",
      "----------------------------------------\n",
      "2.0 K     Trainable params\n",
      "0         Non-trainable params\n",
      "2.0 K     Total params\n",
      "0.008     Total estimated model params size (MB)\n"
     ]
    },
    {
     "name": "stderr",
     "output_type": "stream",
     "text": [
      "GPU available: False, used: False\n",
      "TPU available: False, using: 0 TPU cores\n",
      "IPU available: False, using: 0 IPUs\n",
      "HPU available: False, using: 0 HPUs\n",
      "\n",
      "  | Name      | Type      | Params\n",
      "----------------------------------------\n",
      "0 | encoder   | MLP       | 1.8 K \n",
      "1 | explainer | Explainer | 256   \n",
      "----------------------------------------\n",
      "2.0 K     Trainable params\n",
      "0         Non-trainable params\n",
      "2.0 K     Total params\n",
      "0.008     Total estimated model params size (MB)\n"
     ]
    }
   ],
   "source": [
    "from contextualized.easy import ContextualizedBayesianNetworks\n",
    "cbn = ContextualizedBayesianNetworks(\n",
    "    encoder_type='mlp', num_archetypes=16,\n",
    "    n_bootstraps=2, archetype_dag_loss_type=\"DAGMA\", archetype_alpha=0.,\n",
    "    sample_specific_dag_loss_type=\"DAGMA\", sample_specific_alpha=1e-1,\n",
    "    learning_rate=1e-3)\n",
    "cbn.fit(C, X, max_epochs=10)"
   ]
  },
  {
   "cell_type": "markdown",
   "metadata": {},
   "source": [
    "Now, if we consider a constant $C$, we are indirectly defining a population model. We use this idea to compare the performance of contextualized against not-contextualized BNs."
   ]
  },
  {
   "cell_type": "code",
   "execution_count": 105,
   "metadata": {},
   "outputs": [
    {
     "data": {
      "text/html": [
       "<pre style=\"white-space:pre;overflow-x:auto;line-height:normal;font-family:Menlo,'DejaVu Sans Mono',consolas,'Courier New',monospace\"><span style=\"font-weight: bold\">(</span><span style=\"color: #008080; text-decoration-color: #008080; font-weight: bold\">10000</span>, <span style=\"color: #008080; text-decoration-color: #008080; font-weight: bold\">1</span><span style=\"font-weight: bold\">)</span>\n",
       "<span style=\"font-weight: bold\">(</span><span style=\"color: #008080; text-decoration-color: #008080; font-weight: bold\">10000</span>, <span style=\"color: #008080; text-decoration-color: #008080; font-weight: bold\">4</span>, <span style=\"color: #008080; text-decoration-color: #008080; font-weight: bold\">4</span><span style=\"font-weight: bold\">)</span>\n",
       "<span style=\"font-weight: bold\">(</span><span style=\"color: #008080; text-decoration-color: #008080; font-weight: bold\">10000</span>, <span style=\"color: #008080; text-decoration-color: #008080; font-weight: bold\">4</span><span style=\"font-weight: bold\">)</span>\n",
       "</pre>\n"
      ],
      "text/plain": [
       "\u001b[1m(\u001b[0m\u001b[1;36m10000\u001b[0m, \u001b[1;36m1\u001b[0m\u001b[1m)\u001b[0m\n",
       "\u001b[1m(\u001b[0m\u001b[1;36m10000\u001b[0m, \u001b[1;36m4\u001b[0m, \u001b[1;36m4\u001b[0m\u001b[1m)\u001b[0m\n",
       "\u001b[1m(\u001b[0m\u001b[1;36m10000\u001b[0m, \u001b[1;36m4\u001b[0m\u001b[1m)\u001b[0m\n"
      ]
     },
     "metadata": {},
     "output_type": "display_data"
    }
   ],
   "source": [
    "const_C = np.ones((n, 1))\n",
    "print(const_C.shape, W.shape, X.shape)"
   ]
  },
  {
   "cell_type": "code",
   "execution_count": 106,
   "metadata": {},
   "outputs": [
    {
     "name": "stderr",
     "output_type": "stream",
     "text": [
      "GPU available: False, used: False\n",
      "TPU available: False, using: 0 TPU cores\n",
      "IPU available: False, using: 0 IPUs\n",
      "HPU available: False, using: 0 HPUs\n",
      "\n",
      "  | Name      | Type      | Params\n",
      "----------------------------------------\n",
      "0 | encoder   | MLP       | 1.8 K \n",
      "1 | explainer | Explainer | 256   \n",
      "----------------------------------------\n",
      "2.0 K     Trainable params\n",
      "0         Non-trainable params\n",
      "2.0 K     Total params\n",
      "0.008     Total estimated model params size (MB)\n",
      "GPU available: False, used: False\n",
      "TPU available: False, using: 0 TPU cores\n",
      "IPU available: False, using: 0 IPUs\n",
      "HPU available: False, using: 0 HPUs\n",
      "\n",
      "  | Name      | Type      | Params\n",
      "----------------------------------------\n",
      "0 | encoder   | MLP       | 1.8 K \n",
      "1 | explainer | Explainer | 256   \n",
      "----------------------------------------\n",
      "2.0 K     Trainable params\n",
      "0         Non-trainable params\n",
      "2.0 K     Total params\n",
      "0.008     Total estimated model params size (MB)\n"
     ]
    }
   ],
   "source": [
    "bn = ContextualizedBayesianNetworks(\n",
    "    encoder_type='mlp', num_archetypes=16,\n",
    "    n_bootstraps=2, archetype_dag_loss_type=\"DAGMA\", archetype_alpha=0.,\n",
    "    sample_specific_dag_loss_type=\"DAGMA\", sample_specific_alpha=1e-1,\n",
    "    learning_rate=1e-3)\n",
    "bn.fit(const_C, X, max_epochs=10)"
   ]
  },
  {
   "cell_type": "code",
   "execution_count": 110,
   "metadata": {},
   "outputs": [
    {
     "data": {
      "text/html": [
       "<pre style=\"white-space:pre;overflow-x:auto;line-height:normal;font-family:Menlo,'DejaVu Sans Mono',consolas,'Courier New',monospace\"><span style=\"color: #008000; text-decoration-color: #008000; font-weight: bold\">Contextualized Model's Mean Squared Error = </span><span style=\"color: #008080; text-decoration-color: #008080; font-weight: bold\">6.1e+02</span>\n",
       "</pre>\n"
      ],
      "text/plain": [
       "\u001b[1;32mContextualized Model's Mean Squared Error = \u001b[0m\u001b[1;36m6.1e+02\u001b[0m\n"
      ]
     },
     "metadata": {},
     "output_type": "display_data"
    },
    {
     "data": {
      "text/html": [
       "<pre style=\"white-space:pre;overflow-x:auto;line-height:normal;font-family:Menlo,'DejaVu Sans Mono',consolas,'Courier New',monospace\"><span style=\"color: #008000; text-decoration-color: #008000; font-weight: bold\">Not-Contextualized Model's Mean Squared Error = </span><span style=\"color: #008080; text-decoration-color: #008080; font-weight: bold\">5.5e+02</span>\n",
       "</pre>\n"
      ],
      "text/plain": [
       "\u001b[1;32mNot-Contextualized Model's Mean Squared Error = \u001b[0m\u001b[1;36m5.5e+02\u001b[0m\n"
      ]
     },
     "metadata": {},
     "output_type": "display_data"
    }
   ],
   "source": [
    "# We can measure Mean-Squared Error to measure likelihood of X under predicted networks.\n",
    "c_mses = np.mean(cbn.measure_mses(C, X))\n",
    "mses = np.mean(bn.measure_mses(C, X))\n",
    "print(f'[bold green]Contextualized Model\\'s Mean Squared Error = [bold cyan]{c_mses:.2}')\n",
    "print(f'[bold green]Not-Contextualized Model\\'s Mean Squared Error = [bold cyan]{mses:.2}')"
   ]
  },
  {
   "cell_type": "code",
   "execution_count": 108,
   "metadata": {},
   "outputs": [
    {
     "data": {
      "text/html": [
       "<pre style=\"white-space:pre;overflow-x:auto;line-height:normal;font-family:Menlo,'DejaVu Sans Mono',consolas,'Courier New',monospace\"><span style=\"color: #008000; text-decoration-color: #008000; font-weight: bold\"> Comparison of inferred BNs</span>\n",
       "</pre>\n"
      ],
      "text/plain": [
       "\u001b[1;32m Comparison of inferred BNs\u001b[0m\n"
      ]
     },
     "metadata": {},
     "output_type": "display_data"
    },
    {
     "data": {
      "image/png": "[encoded data removed]",
      "text/plain": [
       "<Figure size 640x480 with 9 Axes>"
      ]
     },
     "metadata": {},
     "output_type": "display_data"
    }
   ],
   "source": [
    "# Predict and visualize network\n",
    "predicted_contextualized_networks = cbn.predict_networks(C)\n",
    "predicted_networks = bn.predict_networks(C)\n",
    "print(f'[bold green] Comparison of inferred BNs')\n",
    "\n",
    "f, axarr = plt.subplots(3, 3)\n",
    "\n",
    "index_of_1 = np.where(C == 1)[0][0]\n",
    "index_of_2 = np.where(C == 2)[0][0]\n",
    "index_of_3 = np.where(C == 3)[0][0]\n",
    "\n",
    "axarr[0,0].imshow(W[index_of_1])\n",
    "axarr[0,1].imshow(predicted_contextualized_networks[index_of_1])\n",
    "axarr[0,2].imshow(predicted_networks[index_of_1])\n",
    "axarr[1,0].imshow(W[index_of_2])\n",
    "axarr[1,1].imshow(predicted_contextualized_networks[index_of_2])\n",
    "axarr[1,2].imshow(predicted_networks[index_of_2])\n",
    "axarr[2,0].imshow(W[index_of_3])\n",
    "axarr[2,1].imshow(predicted_contextualized_networks[index_of_3])\n",
    "axarr[2,2].imshow(predicted_networks[index_of_3])\n",
    "\n",
    "\n",
    "axarr[0,0].set_title(\"Ground-Truth Network\")\n",
    "axarr[0,1].set_title(\"Predicted CBN\")\n",
    "axarr[0,2].set_title(\"Predicted BN\")\n",
    "\n",
    "plt.show()"
   ]
  },
  {
   "cell_type": "markdown",
   "metadata": {},
   "source": [
    "## Contextualized ML Enables Analysis of Latent Processes\n",
    "Cluster or cohort models are inferred by partitioning data into groups, assumed to be iid, and estimating models for each groups. This\n",
    "is only likely to be satisfied when contexts are discrete, low-dimensional, and every context-specific\n",
    "population is well observed. In real life, contexts are often continuous, high dimensional, and sparsely\n",
    "observed. When cluster or cohort approaches are applied in these circumstances, downstream modeling tasks are distorted by mis-specification, where many non-id samples are funneled into a single model. Consequently, there are no theoretical guarantees in many real life circumstances about how\n",
    "well a cluster or cohort model can represent heterogeneous populations. Alternatively, contextualized\n",
    "learning provides a way to estimate latent, non-id models for all samples with minimal assumptions\n",
    "about the grouping or clustering of these samples, or the functional relationship between latent models and contexts. Samples can then be grouped on the basis of model parameters and distributional\n",
    "differences to produce clusters in the latent model space underlying each sample. Contextualized ML\n",
    "intuitively recovers latent structures underlying data generation in a way a priori clustering cannot. Allowing downstream models to determine the grouping of samples rather than upstream contexts replaces\n",
    "traditional cluster analysis with contextualized analysis clusters."
   ]
  },
  {
   "cell_type": "markdown",
   "metadata": {},
   "source": [
    "Following the example depicted above, let's suppose the context $C$ of the gene expression $X$ is defined by some covariates $Z$. <br>\n",
    "The context $C$ of each individual is modeled by $C = \\beta(Z) + \\epsilon$"
   ]
  },
  {
   "cell_type": "code",
   "execution_count": null,
   "metadata": {},
   "outputs": [
    {
     "data": {
      "text/html": [
       "<pre style=\"white-space:pre;overflow-x:auto;line-height:normal;font-family:Menlo,'DejaVu Sans Mono',consolas,'Courier New',monospace\"><span style=\"font-weight: bold\">(</span><span style=\"color: #008080; text-decoration-color: #008080; font-weight: bold\">1000</span>, <span style=\"color: #008080; text-decoration-color: #008080; font-weight: bold\">1</span><span style=\"font-weight: bold\">)</span>\n",
       "<span style=\"font-weight: bold\">(</span><span style=\"color: #008080; text-decoration-color: #008080; font-weight: bold\">1000</span>, <span style=\"color: #008080; text-decoration-color: #008080; font-weight: bold\">4</span>, <span style=\"color: #008080; text-decoration-color: #008080; font-weight: bold\">4</span><span style=\"font-weight: bold\">)</span>\n",
       "<span style=\"font-weight: bold\">(</span><span style=\"color: #008080; text-decoration-color: #008080; font-weight: bold\">1000</span>, <span style=\"color: #008080; text-decoration-color: #008080; font-weight: bold\">4</span><span style=\"font-weight: bold\">)</span>\n",
       "</pre>\n"
      ],
      "text/plain": [
       "\u001b[1m(\u001b[0m\u001b[1;36m1000\u001b[0m, \u001b[1;36m1\u001b[0m\u001b[1m)\u001b[0m\n",
       "\u001b[1m(\u001b[0m\u001b[1;36m1000\u001b[0m, \u001b[1;36m4\u001b[0m, \u001b[1;36m4\u001b[0m\u001b[1m)\u001b[0m\n",
       "\u001b[1m(\u001b[0m\u001b[1;36m1000\u001b[0m, \u001b[1;36m4\u001b[0m\u001b[1m)\u001b[0m\n"
      ]
     },
     "metadata": {},
     "output_type": "display_data"
    }
   ],
   "source": [
    "# number of samples\n",
    "n = 1000\n",
    "# Covariates Z\n",
    "Z = np.random.normal(-1, 1, (n, 5))\n",
    "# beta\n",
    "beta = np.random.normal(-1, 1, (5, 1))\n",
    "# C is the context\n",
    "C = np.matmul(Z, beta)\n",
    "# W is the adjacency matrix that defines the BN\n",
    "W = np.zeros((4, 4, n, 1)) # 4 genes and n adjacency matrices\n",
    "W[0, 1] = C - 2\n",
    "W[2, 1] = C**2\n",
    "W[3, 1] = C**3\n",
    "W[3, 2] = C\n",
    "W = np.squeeze(W)\n",
    "W = np.transpose(W, (2, 0, 1))\n",
    "# X is the gene expression\n",
    "X = np.zeros((n, 4))\n",
    "for i, w in enumerate(W):\n",
    "    x = simulate_linear_sem(w, 1, \"uniform\", noise_scale=0.1)[0]\n",
    "    X[i] = x\n",
    "\n",
    "print(C.shape, W.shape, X.shape)"
   ]
  },
  {
   "cell_type": "code",
   "execution_count": null,
   "metadata": {},
   "outputs": [
    {
     "name": "stderr",
     "output_type": "stream",
     "text": [
      "GPU available: False, used: False\n",
      "TPU available: False, using: 0 TPU cores\n",
      "IPU available: False, using: 0 IPUs\n",
      "HPU available: False, using: 0 HPUs\n",
      "\n",
      "  | Name      | Type      | Params\n",
      "----------------------------------------\n",
      "0 | encoder   | MLP       | 1.8 K \n",
      "1 | explainer | Explainer | 256   \n",
      "----------------------------------------\n",
      "2.0 K     Trainable params\n",
      "0         Non-trainable params\n",
      "2.0 K     Total params\n",
      "0.008     Total estimated model params size (MB)\n"
     ]
    },
    {
     "name": "stderr",
     "output_type": "stream",
     "text": [
      "GPU available: False, used: False\n",
      "TPU available: False, using: 0 TPU cores\n",
      "IPU available: False, using: 0 IPUs\n",
      "HPU available: False, using: 0 HPUs\n",
      "\n",
      "  | Name      | Type      | Params\n",
      "----------------------------------------\n",
      "0 | encoder   | MLP       | 1.8 K \n",
      "1 | explainer | Explainer | 256   \n",
      "----------------------------------------\n",
      "2.0 K     Trainable params\n",
      "0         Non-trainable params\n",
      "2.0 K     Total params\n",
      "0.008     Total estimated model params size (MB)\n",
      "GPU available: False, used: False\n",
      "TPU available: False, using: 0 TPU cores\n",
      "IPU available: False, using: 0 IPUs\n",
      "HPU available: False, using: 0 HPUs\n",
      "\n",
      "  | Name      | Type      | Params\n",
      "----------------------------------------\n",
      "0 | encoder   | MLP       | 1.8 K \n",
      "1 | explainer | Explainer | 256   \n",
      "----------------------------------------\n",
      "2.0 K     Trainable params\n",
      "0         Non-trainable params\n",
      "2.0 K     Total params\n",
      "0.008     Total estimated model params size (MB)\n",
      "GPU available: False, used: False\n",
      "TPU available: False, using: 0 TPU cores\n",
      "IPU available: False, using: 0 IPUs\n",
      "HPU available: False, using: 0 HPUs\n",
      "\n",
      "  | Name      | Type      | Params\n",
      "----------------------------------------\n",
      "0 | encoder   | MLP       | 1.8 K \n",
      "1 | explainer | Explainer | 256   \n",
      "----------------------------------------\n",
      "2.0 K     Trainable params\n",
      "0         Non-trainable params\n",
      "2.0 K     Total params\n",
      "0.008     Total estimated model params size (MB)\n"
     ]
    }
   ],
   "source": [
    "cbn = ContextualizedBayesianNetworks(\n",
    "    encoder_type='mlp', num_archetypes=16,\n",
    "    n_bootstraps=2, archetype_dag_loss_type=\"DAGMA\", archetype_alpha=0.,\n",
    "    sample_specific_dag_loss_type=\"DAGMA\", sample_specific_alpha=1e-1,\n",
    "    learning_rate=1e-3)\n",
    "cbn.fit(C, X, max_epochs=10)\n",
    "const_C = np.ones((n, 1))\n",
    "bn = ContextualizedBayesianNetworks(\n",
    "    encoder_type='mlp', num_archetypes=16,\n",
    "    n_bootstraps=2, archetype_dag_loss_type=\"DAGMA\", archetype_alpha=0.,\n",
    "    sample_specific_dag_loss_type=\"DAGMA\", sample_specific_alpha=1e-1,\n",
    "    learning_rate=1e-3)\n",
    "bn.fit(const_C, X, max_epochs=10)"
   ]
  },
  {
   "cell_type": "code",
   "execution_count": null,
   "metadata": {},
   "outputs": [
    {
     "data": {
      "text/html": [
       "<pre style=\"white-space:pre;overflow-x:auto;line-height:normal;font-family:Menlo,'DejaVu Sans Mono',consolas,'Courier New',monospace\"><span style=\"color: #008000; text-decoration-color: #008000; font-weight: bold\">Contextualized Model's Mean Squared Error = </span><span style=\"color: #008080; text-decoration-color: #008080; font-weight: bold\">0.076</span>\n",
       "</pre>\n"
      ],
      "text/plain": [
       "\u001b[1;32mContextualized Model's Mean Squared Error = \u001b[0m\u001b[1;36m0.076\u001b[0m\n"
      ]
     },
     "metadata": {},
     "output_type": "display_data"
    },
    {
     "data": {
      "text/html": [
       "<pre style=\"white-space:pre;overflow-x:auto;line-height:normal;font-family:Menlo,'DejaVu Sans Mono',consolas,'Courier New',monospace\"><span style=\"color: #008000; text-decoration-color: #008000; font-weight: bold\">Not-Contextualized Model's Mean Squared Error = </span><span style=\"color: #008080; text-decoration-color: #008080; font-weight: bold\">0.12</span>\n",
       "</pre>\n"
      ],
      "text/plain": [
       "\u001b[1;32mNot-Contextualized Model's Mean Squared Error = \u001b[0m\u001b[1;36m0.12\u001b[0m\n"
      ]
     },
     "metadata": {},
     "output_type": "display_data"
    }
   ],
   "source": [
    "# We can measure Mean-Squared Error to measure likelihood of X under predicted networks.\n",
    "c_mses = np.mean(cbn.measure_mses(C, X))\n",
    "mses = np.mean(bn.measure_mses(C, X))\n",
    "print(f'[bold green]Contextualized Model\\'s Mean Squared Error = [bold cyan]{c_mses:.2}')\n",
    "print(f'[bold green]Not-Contextualized Model\\'s Mean Squared Error = [bold cyan]{mses:.2}')"
   ]
  },
  {
   "cell_type": "markdown",
   "metadata": {},
   "source": [
    "## Contextualized ML Interpolates Between Observed Contexts \n",
    "By learning to translate contextual information into model parameters, contextualized models learn about the meta-distribution of\n",
    "contexts. As a result, contextualized models can adapt to contexts which were never observed\n",
    "in the training data by interpolating between observed contexts or extrapolating to new contexts."
   ]
  },
  {
   "cell_type": "markdown",
   "metadata": {},
   "source": [
    "Le's assume we observe a certain set of contexts in our initial population, how well does the contextualized model generalize to new/unobserved contexts?"
   ]
  },
  {
   "cell_type": "code",
   "execution_count": 33,
   "metadata": {},
   "outputs": [
    {
     "data": {
      "text/html": [
       "<pre style=\"white-space:pre;overflow-x:auto;line-height:normal;font-family:Menlo,'DejaVu Sans Mono',consolas,'Courier New',monospace\"><span style=\"font-weight: bold\">(</span><span style=\"color: #008080; text-decoration-color: #008080; font-weight: bold\">2000</span>, <span style=\"color: #008080; text-decoration-color: #008080; font-weight: bold\">1</span><span style=\"font-weight: bold\">)</span>\n",
       "<span style=\"font-weight: bold\">(</span><span style=\"color: #008080; text-decoration-color: #008080; font-weight: bold\">2000</span>, <span style=\"color: #008080; text-decoration-color: #008080; font-weight: bold\">4</span>, <span style=\"color: #008080; text-decoration-color: #008080; font-weight: bold\">4</span><span style=\"font-weight: bold\">)</span>\n",
       "<span style=\"font-weight: bold\">(</span><span style=\"color: #008080; text-decoration-color: #008080; font-weight: bold\">2000</span>, <span style=\"color: #008080; text-decoration-color: #008080; font-weight: bold\">4</span><span style=\"font-weight: bold\">)</span>\n",
       "</pre>\n"
      ],
      "text/plain": [
       "\u001b[1m(\u001b[0m\u001b[1;36m2000\u001b[0m, \u001b[1;36m1\u001b[0m\u001b[1m)\u001b[0m\n",
       "\u001b[1m(\u001b[0m\u001b[1;36m2000\u001b[0m, \u001b[1;36m4\u001b[0m, \u001b[1;36m4\u001b[0m\u001b[1m)\u001b[0m\n",
       "\u001b[1m(\u001b[0m\u001b[1;36m2000\u001b[0m, \u001b[1;36m4\u001b[0m\u001b[1m)\u001b[0m\n"
      ]
     },
     "metadata": {},
     "output_type": "display_data"
    }
   ],
   "source": [
    "# number of samples\n",
    "n = 2000\n",
    "# C is the context\n",
    "# C in [1,2] & [5,6] for the initial population\n",
    "# C in [2,5] for the unobserved population\n",
    "C = np.concatenate([np.linspace(1, 2, n//4), np.linspace(5, 6, n//4), np.linspace(2, 5, n//2)]).reshape((n, 1))\n",
    "# W is the adjacency matrix that defines the BN\n",
    "W = np.zeros((4, 4, n, 1)) # 4 genes and n adjacency matrices\n",
    "W[0, 1] = C - 2\n",
    "W[2, 1] = C**2\n",
    "W[3, 1] = C**3\n",
    "W[3, 2] = C\n",
    "W = np.squeeze(W)\n",
    "W = np.transpose(W, (2, 0, 1))\n",
    "# X is the gene expression\n",
    "X = np.zeros((n, 4))\n",
    "for i, w in enumerate(W):\n",
    "    x = simulate_linear_sem(w, 1, \"uniform\", noise_scale=0.1)[0]\n",
    "    X[i] = x\n",
    "print(C.shape, W.shape, X.shape)"
   ]
  },
  {
   "cell_type": "code",
   "execution_count": 34,
   "metadata": {},
   "outputs": [
    {
     "name": "stderr",
     "output_type": "stream",
     "text": [
      "GPU available: False, used: False\n",
      "TPU available: False, using: 0 TPU cores\n",
      "IPU available: False, using: 0 IPUs\n",
      "HPU available: False, using: 0 HPUs\n",
      "\n",
      "  | Name      | Type      | Params\n",
      "----------------------------------------\n",
      "0 | encoder   | MLP       | 1.8 K \n",
      "1 | explainer | Explainer | 256   \n",
      "----------------------------------------\n",
      "2.0 K     Trainable params\n",
      "0         Non-trainable params\n",
      "2.0 K     Total params\n",
      "0.008     Total estimated model params size (MB)\n"
     ]
    },
    {
     "name": "stderr",
     "output_type": "stream",
     "text": [
      "GPU available: False, used: False\n",
      "TPU available: False, using: 0 TPU cores\n",
      "IPU available: False, using: 0 IPUs\n",
      "HPU available: False, using: 0 HPUs\n",
      "\n",
      "  | Name      | Type      | Params\n",
      "----------------------------------------\n",
      "0 | encoder   | MLP       | 1.8 K \n",
      "1 | explainer | Explainer | 256   \n",
      "----------------------------------------\n",
      "2.0 K     Trainable params\n",
      "0         Non-trainable params\n",
      "2.0 K     Total params\n",
      "0.008     Total estimated model params size (MB)\n",
      "GPU available: False, used: False\n",
      "TPU available: False, using: 0 TPU cores\n",
      "IPU available: False, using: 0 IPUs\n",
      "HPU available: False, using: 0 HPUs\n",
      "\n",
      "  | Name      | Type      | Params\n",
      "----------------------------------------\n",
      "0 | encoder   | MLP       | 1.8 K \n",
      "1 | explainer | Explainer | 256   \n",
      "----------------------------------------\n",
      "2.0 K     Trainable params\n",
      "0         Non-trainable params\n",
      "2.0 K     Total params\n",
      "0.008     Total estimated model params size (MB)\n",
      "GPU available: False, used: False\n",
      "TPU available: False, using: 0 TPU cores\n",
      "IPU available: False, using: 0 IPUs\n",
      "HPU available: False, using: 0 HPUs\n",
      "\n",
      "  | Name      | Type      | Params\n",
      "----------------------------------------\n",
      "0 | encoder   | MLP       | 1.8 K \n",
      "1 | explainer | Explainer | 256   \n",
      "----------------------------------------\n",
      "2.0 K     Trainable params\n",
      "0         Non-trainable params\n",
      "2.0 K     Total params\n",
      "0.008     Total estimated model params size (MB)\n"
     ]
    }
   ],
   "source": [
    "cbn = ContextualizedBayesianNetworks(\n",
    "    encoder_type='mlp', num_archetypes=16,\n",
    "    n_bootstraps=2, archetype_dag_loss_type=\"DAGMA\", archetype_alpha=0.,\n",
    "    sample_specific_dag_loss_type=\"DAGMA\", sample_specific_alpha=1e-1,\n",
    "    learning_rate=1e-3)\n",
    "cbn.fit(C[:n//2], X[:n//2], max_epochs=10)\n",
    "const_C = np.ones((n//2, 1))\n",
    "bn = ContextualizedBayesianNetworks(\n",
    "    encoder_type='mlp', num_archetypes=16,\n",
    "    n_bootstraps=2, archetype_dag_loss_type=\"DAGMA\", archetype_alpha=0.,\n",
    "    sample_specific_dag_loss_type=\"DAGMA\", sample_specific_alpha=1e-1,\n",
    "    learning_rate=1e-3)\n",
    "bn.fit(const_C, X[:n//2], max_epochs=10)"
   ]
  },
  {
   "cell_type": "code",
   "execution_count": 35,
   "metadata": {},
   "outputs": [
    {
     "data": {
      "text/html": [
       "<pre style=\"white-space:pre;overflow-x:auto;line-height:normal;font-family:Menlo,'DejaVu Sans Mono',consolas,'Courier New',monospace\"><span style=\"color: #008000; text-decoration-color: #008000; font-weight: bold\">Contextualized Model's Mean Squared Error = </span><span style=\"color: #008080; text-decoration-color: #008080; font-weight: bold\">0.069</span>\n",
       "</pre>\n"
      ],
      "text/plain": [
       "\u001b[1;32mContextualized Model's Mean Squared Error = \u001b[0m\u001b[1;36m0.069\u001b[0m\n"
      ]
     },
     "metadata": {},
     "output_type": "display_data"
    },
    {
     "data": {
      "text/html": [
       "<pre style=\"white-space:pre;overflow-x:auto;line-height:normal;font-family:Menlo,'DejaVu Sans Mono',consolas,'Courier New',monospace\"><span style=\"color: #008000; text-decoration-color: #008000; font-weight: bold\">Not-Contextualized Model's Mean Squared Error = </span><span style=\"color: #008080; text-decoration-color: #008080; font-weight: bold\">0.074</span>\n",
       "</pre>\n"
      ],
      "text/plain": [
       "\u001b[1;32mNot-Contextualized Model's Mean Squared Error = \u001b[0m\u001b[1;36m0.074\u001b[0m\n"
      ]
     },
     "metadata": {},
     "output_type": "display_data"
    }
   ],
   "source": [
    "# We can measure Mean-Squared Error to measure likelihood of X under predicted networks.\n",
    "c_mses = np.mean(cbn.measure_mses(C[n//2:], X[n//2:]))\n",
    "mses = np.mean(bn.measure_mses(C[n//2:], X[n//2:]))\n",
    "print(f'[bold green]Contextualized Model\\'s Mean Squared Error = [bold cyan]{c_mses:.2}')\n",
    "print(f'[bold green]Not-Contextualized Model\\'s Mean Squared Error = [bold cyan]{mses:.2}')"
   ]
  }
 ],
 "metadata": {
  "kernelspec": {
   "display_name": "Python 3",
   "language": "python",
   "name": "python3"
  },
  "language_info": {
   "codemirror_mode": {
    "name": "ipython",
    "version": 3
   },
   "file_extension": ".py",
   "mimetype": "text/x-python",
   "name": "python",
   "nbconvert_exporter": "python",
   "pygments_lexer": "ipython3",
   "version": "3.11.4"
  },
  "orig_nbformat": 4
 },
 "nbformat": 4,
 "nbformat_minor": 2
}
